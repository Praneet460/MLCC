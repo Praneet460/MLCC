{
 "cells": [
  {
   "cell_type": "markdown",
   "metadata": {},
   "source": [
    "### Regression Problem"
   ]
  },
  {
   "cell_type": "markdown",
   "metadata": {},
   "source": [
    "In this regression problem we will try to <b>predict the fuel efficiency</b> of late-1970s and early 1980s automobiles from <b>Auto MPG</b> dataset."
   ]
  },
  {
   "cell_type": "markdown",
   "metadata": {},
   "source": [
    "This regression problem uses the <b>tf.keras</b> API."
   ]
  },
  {
   "cell_type": "markdown",
   "metadata": {},
   "source": [
    "<i>Why we are using the Keras API?</i>\n",
    "\n",
    "Because it's easy to build model using Keras API in just 5 simple steps --\n",
    "- Get the Data\n",
    "- Setup model\n",
    "- Train model\n",
    "- Evaluate\n",
    "- Predict"
   ]
  },
  {
   "cell_type": "markdown",
   "metadata": {},
   "source": [
    "<i>tf.keras</i> is the simplest way to build and train neural network models in TensorFlow. So, that's what we'll stick with in this tutorial, unless the models neccessitate a low-level API."
   ]
  },
  {
   "cell_type": "markdown",
   "metadata": {},
   "source": [
    "<b>Note: </b><i>tf.keras</i> (comes with TensorFlow) and there's <i>Keras</i> (standalone). We will be using <i>tf.keras</i> because\n",
    "- It comes with TensorFlow so you don't need to install anything extra.\n",
    "- It comes with powerful TensorFlow-specific features."
   ]
  },
  {
   "cell_type": "markdown",
   "metadata": {},
   "source": [
    "#### 1. Import libraries"
   ]
  },
  {
   "cell_type": "code",
   "execution_count": 1,
   "metadata": {},
   "outputs": [
    {
     "name": "stderr",
     "output_type": "stream",
     "text": [
      "C:\\Users\\Praneet\\Anaconda3\\lib\\site-packages\\h5py\\__init__.py:36: FutureWarning: Conversion of the second argument of issubdtype from `float` to `np.floating` is deprecated. In future, it will be treated as `np.float64 == np.dtype(float).type`.\n",
      "  from ._conv import register_converters as _register_converters\n"
     ]
    },
    {
     "name": "stdout",
     "output_type": "stream",
     "text": [
      "Tensorflow Version:  1.12.0\n",
      "Pandas Version:  0.23.4\n",
      "Seaborn Version:  0.9.0\n"
     ]
    }
   ],
   "source": [
    "# TensorFlow and tf.keras\n",
    "import tensorflow as tf\n",
    "from tensorflow import keras\n",
    "from tensorflow.keras import layers\n",
    "\n",
    "# Scikit-Learn train-test split \n",
    "from sklearn.model_selection import train_test_split\n",
    "\n",
    "# Images, plots, display, and visualization\n",
    "import pandas as pd\n",
    "import matplotlib.pyplot as plt\n",
    "from matplotlib import style\n",
    "import seaborn as sns\n",
    "\n",
    "print(\"Tensorflow Version: \", tf.VERSION)\n",
    "print(\"Pandas Version: \", pd.__version__)\n",
    "print(\"Seaborn Version: \", sns.__version__)"
   ]
  },
  {
   "cell_type": "code",
   "execution_count": 2,
   "metadata": {
    "collapsed": true
   },
   "outputs": [],
   "source": [
    "%matplotlib inline\n",
    "style.use('ggplot')"
   ]
  },
  {
   "cell_type": "markdown",
   "metadata": {},
   "source": [
    "We have successfully imported all the packages and libraries. Now, let's start by downloading the dataset first."
   ]
  },
  {
   "cell_type": "markdown",
   "metadata": {},
   "source": [
    "#### 2. Get the data"
   ]
  },
  {
   "cell_type": "markdown",
   "metadata": {},
   "source": [
    "Download the data file from the url."
   ]
  },
  {
   "cell_type": "code",
   "execution_count": 3,
   "metadata": {
    "scrolled": false
   },
   "outputs": [
    {
     "name": "stdout",
     "output_type": "stream",
     "text": [
      ".\\datasets\\auto-mpg.data\n"
     ]
    }
   ],
   "source": [
    "dataset_path = keras.utils.get_file(fname = 'auto-mpg.data', origin = 'https://archive.ics.uci.edu/ml/machine-learning-databases/auto-mpg/auto-mpg.data', cache_dir = '.')\n",
    "print(dataset_path)"
   ]
  },
  {
   "cell_type": "markdown",
   "metadata": {
    "collapsed": true
   },
   "source": [
    "Now we have successfully downloaded our <b>auto-mpg</b> dataset. So it's time to have a look to our dataset."
   ]
  },
  {
   "cell_type": "markdown",
   "metadata": {},
   "source": [
    "Let's begin the exploratory journey into the dataset to reveal it's hidden secrets."
   ]
  },
  {
   "cell_type": "markdown",
   "metadata": {
    "collapsed": true
   },
   "source": [
    "#### 3. Explore the Dataset"
   ]
  },
  {
   "cell_type": "markdown",
   "metadata": {},
   "source": [
    "Let's have a look at the data."
   ]
  },
  {
   "cell_type": "code",
   "execution_count": 4,
   "metadata": {},
   "outputs": [
    {
     "data": {
      "text/html": [
       "<div>\n",
       "<style scoped>\n",
       "    .dataframe tbody tr th:only-of-type {\n",
       "        vertical-align: middle;\n",
       "    }\n",
       "\n",
       "    .dataframe tbody tr th {\n",
       "        vertical-align: top;\n",
       "    }\n",
       "\n",
       "    .dataframe thead th {\n",
       "        text-align: right;\n",
       "    }\n",
       "</style>\n",
       "<table border=\"1\" class=\"dataframe\">\n",
       "  <thead>\n",
       "    <tr style=\"text-align: right;\">\n",
       "      <th></th>\n",
       "      <th>MPG</th>\n",
       "      <th>Cylinders</th>\n",
       "      <th>Displacement</th>\n",
       "      <th>Horsepower</th>\n",
       "      <th>Weight</th>\n",
       "      <th>Acceleration</th>\n",
       "      <th>Model Year</th>\n",
       "      <th>Origin</th>\n",
       "    </tr>\n",
       "  </thead>\n",
       "  <tbody>\n",
       "    <tr>\n",
       "      <th>0</th>\n",
       "      <td>18.0</td>\n",
       "      <td>8</td>\n",
       "      <td>307.0</td>\n",
       "      <td>130.0</td>\n",
       "      <td>3504.0</td>\n",
       "      <td>12.0</td>\n",
       "      <td>70</td>\n",
       "      <td>1</td>\n",
       "    </tr>\n",
       "    <tr>\n",
       "      <th>1</th>\n",
       "      <td>15.0</td>\n",
       "      <td>8</td>\n",
       "      <td>350.0</td>\n",
       "      <td>165.0</td>\n",
       "      <td>3693.0</td>\n",
       "      <td>11.5</td>\n",
       "      <td>70</td>\n",
       "      <td>1</td>\n",
       "    </tr>\n",
       "    <tr>\n",
       "      <th>2</th>\n",
       "      <td>18.0</td>\n",
       "      <td>8</td>\n",
       "      <td>318.0</td>\n",
       "      <td>150.0</td>\n",
       "      <td>3436.0</td>\n",
       "      <td>11.0</td>\n",
       "      <td>70</td>\n",
       "      <td>1</td>\n",
       "    </tr>\n",
       "    <tr>\n",
       "      <th>3</th>\n",
       "      <td>16.0</td>\n",
       "      <td>8</td>\n",
       "      <td>304.0</td>\n",
       "      <td>150.0</td>\n",
       "      <td>3433.0</td>\n",
       "      <td>12.0</td>\n",
       "      <td>70</td>\n",
       "      <td>1</td>\n",
       "    </tr>\n",
       "    <tr>\n",
       "      <th>4</th>\n",
       "      <td>17.0</td>\n",
       "      <td>8</td>\n",
       "      <td>302.0</td>\n",
       "      <td>140.0</td>\n",
       "      <td>3449.0</td>\n",
       "      <td>10.5</td>\n",
       "      <td>70</td>\n",
       "      <td>1</td>\n",
       "    </tr>\n",
       "  </tbody>\n",
       "</table>\n",
       "</div>"
      ],
      "text/plain": [
       "    MPG  Cylinders  Displacement  Horsepower  Weight  Acceleration  \\\n",
       "0  18.0          8         307.0       130.0  3504.0          12.0   \n",
       "1  15.0          8         350.0       165.0  3693.0          11.5   \n",
       "2  18.0          8         318.0       150.0  3436.0          11.0   \n",
       "3  16.0          8         304.0       150.0  3433.0          12.0   \n",
       "4  17.0          8         302.0       140.0  3449.0          10.5   \n",
       "\n",
       "   Model Year  Origin  \n",
       "0          70       1  \n",
       "1          70       1  \n",
       "2          70       1  \n",
       "3          70       1  \n",
       "4          70       1  "
      ]
     },
     "execution_count": 4,
     "metadata": {},
     "output_type": "execute_result"
    }
   ],
   "source": [
    "column_names = ['MPG', 'Cylinders', 'Displacement', 'Horsepower', 'Weight',\n",
    "               'Acceleration', 'Model Year', 'Origin']\n",
    "\"\"\"\n",
    "1. As data file does not contains the column names then we have to specify the column names manually. \n",
    "2. The Null values in the data file is represented by '?' symbol. So we have to assign it to the \n",
    "'_na_values' attributes.\n",
    "3. 'skipinitialspace' attribute skip spaces after delimiter(alternative argument name for sep).\n",
    "\"\"\"\n",
    "raw_dataset = pd.read_csv(filepath_or_buffer = dataset_path, names = column_names, na_values = \"?\",\n",
    "                         comment = '\\t', sep = \" \", skipinitialspace = True)\n",
    "\n",
    "\"\"\"Creates a copy of dataset so that raw_dataset remain unchanged.\"\"\"\n",
    "dataset = raw_dataset.copy()\n",
    "\"\"\"Top five rows of the dataset\"\"\"\n",
    "dataset.head()"
   ]
  },
  {
   "cell_type": "code",
   "execution_count": 5,
   "metadata": {},
   "outputs": [
    {
     "data": {
      "text/html": [
       "<div>\n",
       "<style scoped>\n",
       "    .dataframe tbody tr th:only-of-type {\n",
       "        vertical-align: middle;\n",
       "    }\n",
       "\n",
       "    .dataframe tbody tr th {\n",
       "        vertical-align: top;\n",
       "    }\n",
       "\n",
       "    .dataframe thead th {\n",
       "        text-align: right;\n",
       "    }\n",
       "</style>\n",
       "<table border=\"1\" class=\"dataframe\">\n",
       "  <thead>\n",
       "    <tr style=\"text-align: right;\">\n",
       "      <th></th>\n",
       "      <th>MPG</th>\n",
       "      <th>Cylinders</th>\n",
       "      <th>Displacement</th>\n",
       "      <th>Horsepower</th>\n",
       "      <th>Weight</th>\n",
       "      <th>Acceleration</th>\n",
       "      <th>Model Year</th>\n",
       "      <th>Origin</th>\n",
       "    </tr>\n",
       "  </thead>\n",
       "  <tbody>\n",
       "    <tr>\n",
       "      <th>393</th>\n",
       "      <td>27.0</td>\n",
       "      <td>4</td>\n",
       "      <td>140.0</td>\n",
       "      <td>86.0</td>\n",
       "      <td>2790.0</td>\n",
       "      <td>15.6</td>\n",
       "      <td>82</td>\n",
       "      <td>1</td>\n",
       "    </tr>\n",
       "    <tr>\n",
       "      <th>394</th>\n",
       "      <td>44.0</td>\n",
       "      <td>4</td>\n",
       "      <td>97.0</td>\n",
       "      <td>52.0</td>\n",
       "      <td>2130.0</td>\n",
       "      <td>24.6</td>\n",
       "      <td>82</td>\n",
       "      <td>2</td>\n",
       "    </tr>\n",
       "    <tr>\n",
       "      <th>395</th>\n",
       "      <td>32.0</td>\n",
       "      <td>4</td>\n",
       "      <td>135.0</td>\n",
       "      <td>84.0</td>\n",
       "      <td>2295.0</td>\n",
       "      <td>11.6</td>\n",
       "      <td>82</td>\n",
       "      <td>1</td>\n",
       "    </tr>\n",
       "    <tr>\n",
       "      <th>396</th>\n",
       "      <td>28.0</td>\n",
       "      <td>4</td>\n",
       "      <td>120.0</td>\n",
       "      <td>79.0</td>\n",
       "      <td>2625.0</td>\n",
       "      <td>18.6</td>\n",
       "      <td>82</td>\n",
       "      <td>1</td>\n",
       "    </tr>\n",
       "    <tr>\n",
       "      <th>397</th>\n",
       "      <td>31.0</td>\n",
       "      <td>4</td>\n",
       "      <td>119.0</td>\n",
       "      <td>82.0</td>\n",
       "      <td>2720.0</td>\n",
       "      <td>19.4</td>\n",
       "      <td>82</td>\n",
       "      <td>1</td>\n",
       "    </tr>\n",
       "  </tbody>\n",
       "</table>\n",
       "</div>"
      ],
      "text/plain": [
       "      MPG  Cylinders  Displacement  Horsepower  Weight  Acceleration  \\\n",
       "393  27.0          4         140.0        86.0  2790.0          15.6   \n",
       "394  44.0          4          97.0        52.0  2130.0          24.6   \n",
       "395  32.0          4         135.0        84.0  2295.0          11.6   \n",
       "396  28.0          4         120.0        79.0  2625.0          18.6   \n",
       "397  31.0          4         119.0        82.0  2720.0          19.4   \n",
       "\n",
       "     Model Year  Origin  \n",
       "393          82       1  \n",
       "394          82       2  \n",
       "395          82       1  \n",
       "396          82       1  \n",
       "397          82       1  "
      ]
     },
     "execution_count": 5,
     "metadata": {},
     "output_type": "execute_result"
    }
   ],
   "source": [
    "\"\"\"Last five rows of the dataset\"\"\"\n",
    "dataset.tail()"
   ]
  },
  {
   "cell_type": "code",
   "execution_count": 6,
   "metadata": {},
   "outputs": [
    {
     "data": {
      "text/plain": [
       "(398, 8)"
      ]
     },
     "execution_count": 6,
     "metadata": {},
     "output_type": "execute_result"
    }
   ],
   "source": [
    "dataset.shape"
   ]
  },
  {
   "cell_type": "markdown",
   "metadata": {},
   "source": [
    "The <b>auto-mpg</b> dataset contains <b>398 rows</b> (entries) and <b>8 columns</b> (features)."
   ]
  },
  {
   "cell_type": "code",
   "execution_count": 7,
   "metadata": {},
   "outputs": [
    {
     "data": {
      "text/plain": [
       "MPG             float64\n",
       "Cylinders         int64\n",
       "Displacement    float64\n",
       "Horsepower      float64\n",
       "Weight          float64\n",
       "Acceleration    float64\n",
       "Model Year        int64\n",
       "Origin            int64\n",
       "dtype: object"
      ]
     },
     "execution_count": 7,
     "metadata": {},
     "output_type": "execute_result"
    }
   ],
   "source": [
    "\"\"\"We can see that the dataset's columns are of following data-types:\"\"\"\n",
    "dataset.dtypes"
   ]
  },
  {
   "cell_type": "markdown",
   "metadata": {},
   "source": [
    "\n",
    "* <b>MPG: </b>continuous\n",
    "* <b>Cylinders: </b>multi-valued discrete\n",
    "* <b>Displacement: </b>continuous\n",
    "* <b>Horsepower: </b>continuous\n",
    "* <b>Weight: </b>continuous\n",
    "* <b>Acceleration: </b>continuous\n",
    "* <b>Model-Year: </b>multi-valued discrete\n",
    "* <b>Origin: </b>multi-valued discrete\n"
   ]
  },
  {
   "cell_type": "markdown",
   "metadata": {},
   "source": [
    "<b>Note: </b> If you find out the data-type of the horsepower as an 'object'. Then this is because horsepower column contains null values(which we will see later). In order to convert it to the float type use <b>astype('float')</b> method."
   ]
  },
  {
   "cell_type": "code",
   "execution_count": 8,
   "metadata": {},
   "outputs": [
    {
     "name": "stdout",
     "output_type": "stream",
     "text": [
      "<class 'pandas.core.frame.DataFrame'>\n",
      "RangeIndex: 398 entries, 0 to 397\n",
      "Data columns (total 8 columns):\n",
      "MPG             398 non-null float64\n",
      "Cylinders       398 non-null int64\n",
      "Displacement    398 non-null float64\n",
      "Horsepower      392 non-null float64\n",
      "Weight          398 non-null float64\n",
      "Acceleration    398 non-null float64\n",
      "Model Year      398 non-null int64\n",
      "Origin          398 non-null int64\n",
      "dtypes: float64(5), int64(3)\n",
      "memory usage: 25.0 KB\n"
     ]
    }
   ],
   "source": [
    "\"\"\"To know more about the dataset use 'info' method\"\"\"\n",
    "dataset.info()"
   ]
  },
  {
   "cell_type": "markdown",
   "metadata": {},
   "source": [
    "Horsepower column contains the null value."
   ]
  },
  {
   "cell_type": "code",
   "execution_count": 9,
   "metadata": {},
   "outputs": [
    {
     "data": {
      "text/plain": [
       "MPG             0\n",
       "Cylinders       0\n",
       "Displacement    0\n",
       "Horsepower      6\n",
       "Weight          0\n",
       "Acceleration    0\n",
       "Model Year      0\n",
       "Origin          0\n",
       "dtype: int64"
      ]
     },
     "execution_count": 9,
     "metadata": {},
     "output_type": "execute_result"
    }
   ],
   "source": [
    "\"\"\"Count the null values in the dataset\"\"\"\n",
    "dataset.isna().sum()"
   ]
  },
  {
   "cell_type": "markdown",
   "metadata": {},
   "source": [
    "<b>Six null values</b> of Horsepower feature exist."
   ]
  },
  {
   "cell_type": "markdown",
   "metadata": {},
   "source": [
    "<b>How can we handle the missing values?</b>\n",
    "\n",
    "There are 3 most common ways to deal with null values:\n",
    "* Deleting Rows\n",
    "* Replacing with Mean/ Median/ Mode\n",
    "* Predicting the missing values"
   ]
  },
  {
   "cell_type": "markdown",
   "metadata": {},
   "source": [
    "Now let's see what solution is perfect for our model."
   ]
  },
  {
   "cell_type": "code",
   "execution_count": 10,
   "metadata": {},
   "outputs": [
    {
     "data": {
      "text/plain": [
       "count    392.000000\n",
       "mean     104.469388\n",
       "std       38.491160\n",
       "min       46.000000\n",
       "25%       75.000000\n",
       "50%       93.500000\n",
       "75%      126.000000\n",
       "max      230.000000\n",
       "Name: Horsepower, dtype: float64"
      ]
     },
     "execution_count": 10,
     "metadata": {},
     "output_type": "execute_result"
    }
   ],
   "source": [
    "\"\"\"Check out our 'Horsepower column\"\"\"\n",
    "dataset['Horsepower'].describe()"
   ]
  },
  {
   "cell_type": "code",
   "execution_count": 11,
   "metadata": {},
   "outputs": [
    {
     "name": "stdout",
     "output_type": "stream",
     "text": [
      "Median of horsepower feature is 93.5\n",
      "Mode of horsepower feature is \n",
      "0    150.0\n",
      "dtype: float64\n"
     ]
    }
   ],
   "source": [
    "\"\"\"Calculate the median and mode\"\"\"\n",
    "\n",
    "print(\"Median of horsepower feature is {}\".format(dataset['Horsepower'].median()))\n",
    "print(\"Mode of horsepower feature is \\n{}\".format(dataset['Horsepower'].mode()))"
   ]
  },
  {
   "cell_type": "markdown",
   "metadata": {},
   "source": [
    "<b>Important Details: </b>\n",
    "\n",
    "| Mean | Median | Mode | Std | Min | Max |\n",
    "| ---- | ------ | ---- | --- | --- | --- |\n",
    "| 104.5 | 93.5 | 150 | 38.4 | 46 | 230 |"
   ]
  },
  {
   "cell_type": "code",
   "execution_count": 12,
   "metadata": {
    "scrolled": true
   },
   "outputs": [
    {
     "name": "stdout",
     "output_type": "stream",
     "text": [
      "Percentage of mode value present is 5.527638190954774\n"
     ]
    }
   ],
   "source": [
    "\"\"\"Check out the percentage of mode value present in our dataset\"\"\"\n",
    "\n",
    "mode_value = len(dataset[dataset['Horsepower'] == 150])\n",
    "print(\"Percentage of mode value present is {}\".format((mode_value/len(dataset)) * 100))"
   ]
  },
  {
   "cell_type": "markdown",
   "metadata": {},
   "source": [
    "<b>Only 5.5%</b> of values are 150. Hence, we should go with mean."
   ]
  },
  {
   "cell_type": "code",
   "execution_count": 13,
   "metadata": {},
   "outputs": [
    {
     "data": {
      "text/html": [
       "<div>\n",
       "<style scoped>\n",
       "    .dataframe tbody tr th:only-of-type {\n",
       "        vertical-align: middle;\n",
       "    }\n",
       "\n",
       "    .dataframe tbody tr th {\n",
       "        vertical-align: top;\n",
       "    }\n",
       "\n",
       "    .dataframe thead th {\n",
       "        text-align: right;\n",
       "    }\n",
       "</style>\n",
       "<table border=\"1\" class=\"dataframe\">\n",
       "  <thead>\n",
       "    <tr style=\"text-align: right;\">\n",
       "      <th></th>\n",
       "      <th>MPG</th>\n",
       "      <th>Cylinders</th>\n",
       "      <th>Displacement</th>\n",
       "      <th>Horsepower</th>\n",
       "      <th>Weight</th>\n",
       "      <th>Acceleration</th>\n",
       "      <th>Model Year</th>\n",
       "      <th>Origin</th>\n",
       "    </tr>\n",
       "  </thead>\n",
       "  <tbody>\n",
       "    <tr>\n",
       "      <th>32</th>\n",
       "      <td>25.0</td>\n",
       "      <td>4</td>\n",
       "      <td>98.0</td>\n",
       "      <td>NaN</td>\n",
       "      <td>2046.0</td>\n",
       "      <td>19.0</td>\n",
       "      <td>71</td>\n",
       "      <td>1</td>\n",
       "    </tr>\n",
       "    <tr>\n",
       "      <th>126</th>\n",
       "      <td>21.0</td>\n",
       "      <td>6</td>\n",
       "      <td>200.0</td>\n",
       "      <td>NaN</td>\n",
       "      <td>2875.0</td>\n",
       "      <td>17.0</td>\n",
       "      <td>74</td>\n",
       "      <td>1</td>\n",
       "    </tr>\n",
       "    <tr>\n",
       "      <th>330</th>\n",
       "      <td>40.9</td>\n",
       "      <td>4</td>\n",
       "      <td>85.0</td>\n",
       "      <td>NaN</td>\n",
       "      <td>1835.0</td>\n",
       "      <td>17.3</td>\n",
       "      <td>80</td>\n",
       "      <td>2</td>\n",
       "    </tr>\n",
       "    <tr>\n",
       "      <th>336</th>\n",
       "      <td>23.6</td>\n",
       "      <td>4</td>\n",
       "      <td>140.0</td>\n",
       "      <td>NaN</td>\n",
       "      <td>2905.0</td>\n",
       "      <td>14.3</td>\n",
       "      <td>80</td>\n",
       "      <td>1</td>\n",
       "    </tr>\n",
       "    <tr>\n",
       "      <th>354</th>\n",
       "      <td>34.5</td>\n",
       "      <td>4</td>\n",
       "      <td>100.0</td>\n",
       "      <td>NaN</td>\n",
       "      <td>2320.0</td>\n",
       "      <td>15.8</td>\n",
       "      <td>81</td>\n",
       "      <td>2</td>\n",
       "    </tr>\n",
       "    <tr>\n",
       "      <th>374</th>\n",
       "      <td>23.0</td>\n",
       "      <td>4</td>\n",
       "      <td>151.0</td>\n",
       "      <td>NaN</td>\n",
       "      <td>3035.0</td>\n",
       "      <td>20.5</td>\n",
       "      <td>82</td>\n",
       "      <td>1</td>\n",
       "    </tr>\n",
       "  </tbody>\n",
       "</table>\n",
       "</div>"
      ],
      "text/plain": [
       "      MPG  Cylinders  Displacement  Horsepower  Weight  Acceleration  \\\n",
       "32   25.0          4          98.0         NaN  2046.0          19.0   \n",
       "126  21.0          6         200.0         NaN  2875.0          17.0   \n",
       "330  40.9          4          85.0         NaN  1835.0          17.3   \n",
       "336  23.6          4         140.0         NaN  2905.0          14.3   \n",
       "354  34.5          4         100.0         NaN  2320.0          15.8   \n",
       "374  23.0          4         151.0         NaN  3035.0          20.5   \n",
       "\n",
       "     Model Year  Origin  \n",
       "32           71       1  \n",
       "126          74       1  \n",
       "330          80       2  \n",
       "336          80       1  \n",
       "354          81       2  \n",
       "374          82       1  "
      ]
     },
     "execution_count": 13,
     "metadata": {},
     "output_type": "execute_result"
    }
   ],
   "source": [
    "\"\"\"Let's see what are Null values\"\"\"\n",
    "\n",
    "dataset[dataset['Horsepower'].isna() == True]"
   ]
  },
  {
   "cell_type": "code",
   "execution_count": 14,
   "metadata": {
    "scrolled": true
   },
   "outputs": [
    {
     "name": "stdout",
     "output_type": "stream",
     "text": [
      "Percentage of missing values are 1.507537688442211\n"
     ]
    }
   ],
   "source": [
    "\"\"\"Percentage of missing values\"\"\"\n",
    "\n",
    "print(\"Percentage of missing values are {}\".format((6/len(dataset)) * 100))"
   ]
  },
  {
   "cell_type": "markdown",
   "metadata": {},
   "source": [
    "<b>1.5% </b>of the data is missing. So we simply can't drop it. Let's replace them with the mean value and see how out model perform."
   ]
  },
  {
   "cell_type": "code",
   "execution_count": 15,
   "metadata": {
    "collapsed": true
   },
   "outputs": [],
   "source": [
    "\"\"\"Replace the NaN values with the mean\"\"\"\n",
    "dataset['Horsepower'].fillna(\n",
    "                       dataset['Horsepower'].mean(), inplace = True)"
   ]
  },
  {
   "cell_type": "code",
   "execution_count": 16,
   "metadata": {},
   "outputs": [
    {
     "data": {
      "text/plain": [
       "MPG             0\n",
       "Cylinders       0\n",
       "Displacement    0\n",
       "Horsepower      0\n",
       "Weight          0\n",
       "Acceleration    0\n",
       "Model Year      0\n",
       "Origin          0\n",
       "dtype: int64"
      ]
     },
     "execution_count": 16,
     "metadata": {},
     "output_type": "execute_result"
    }
   ],
   "source": [
    "\"\"\"Check if still null values are present?\"\"\"\n",
    "dataset.isna().sum()"
   ]
  },
  {
   "cell_type": "markdown",
   "metadata": {},
   "source": [
    "<b>No null values</b> are present. Now we can move on."
   ]
  },
  {
   "cell_type": "markdown",
   "metadata": {},
   "source": [
    "Let's <b>visualize our dataset features</b>."
   ]
  },
  {
   "cell_type": "code",
   "execution_count": 17,
   "metadata": {},
   "outputs": [
    {
     "name": "stderr",
     "output_type": "stream",
     "text": [
      "C:\\Users\\Praneet\\Anaconda3\\lib\\site-packages\\scipy\\stats\\stats.py:1713: FutureWarning: Using a non-tuple sequence for multidimensional indexing is deprecated; use `arr[tuple(seq)]` instead of `arr[seq]`. In the future this will be interpreted as an array index, `arr[np.array(seq)]`, which will result either in an error or a different result.\n",
      "  return np.add.reduce(sorted[indexer] * weights, axis=axis) / sumval\n"
     ]
    },
    {
     "data": {
      "text/plain": [
       "<matplotlib.axes._subplots.AxesSubplot at 0x1747991d518>"
      ]
     },
     "execution_count": 17,
     "metadata": {},
     "output_type": "execute_result"
    },
    {
     "data": {
      "image/png": "[encoded data removed]",
      "text/plain": [
       "<matplotlib.figure.Figure at 0x1747991df60>"
      ]
     },
     "metadata": {},
     "output_type": "display_data"
    }
   ],
   "source": [
    "\"\"\"Visualize our target feature 'MPG'\"\"\"\n",
    "sns.distplot(dataset['MPG'])"
   ]
  },
  {
   "cell_type": "code",
   "execution_count": 18,
   "metadata": {},
   "outputs": [
    {
     "name": "stdout",
     "output_type": "stream",
     "text": [
      "Skewness: 0.45706634399491913\n",
      "Kurtosis: -0.5107812652123154\n"
     ]
    }
   ],
   "source": [
    "\"\"\"Calculate the Skewness and Kurtosis\"\"\"\n",
    "\n",
    "print(\"Skewness: {}\".format(dataset['MPG'].skew()))\n",
    "print(\"Kurtosis: {}\".format(dataset['MPG'].kurt()))"
   ]
  },
  {
   "cell_type": "markdown",
   "metadata": {},
   "source": [
    "<i>Skewness</i>: It measures the <b>degree of distortion</b> from the normal distribution curve. A symmetric distribution is having the Skewness value equals to zero (i.e. Mean = Median = Mode)."
   ]
  },
  {
   "cell_type": "markdown",
   "metadata": {},
   "source": [
    "There are two types of skewness -\n",
    "- Positive Skewness\n",
    "- Negative Skewness"
   ]
  },
  {
   "cell_type": "markdown",
   "metadata": {},
   "source": [
    "<img src=\"./skewness.jpeg\">"
   ]
  },
  {
   "cell_type": "markdown",
   "metadata": {},
   "source": [
    "<b>Key points to note:</b>\n",
    "- If the skewness value lies between -0.5 to 0.5, then we can say that the data is fairly symmetrical. (That's a good sign) <b>Which is in our case</b>.\n",
    "- If the skewness value lies between -1 to -0.5 then we can say that the data is negatively skewed. And if the skewness value lies between 0.5 ti 1 then we can say that the data is positively skewed.\n",
    "- If the value of skewness is less than -1 or greater than 1, then we can say that the data is highly skewed."
   ]
  },
  {
   "cell_type": "markdown",
   "metadata": {},
   "source": [
    "<i>Kurtosis</i>: It is used to measure the outliners present in the distortion. I also tell us the height and sharpness of the central peak, relative to that of normal distribution.<i> Kurtosis of normal distribution is 3</i>."
   ]
  },
  {
   "cell_type": "markdown",
   "metadata": {},
   "source": [
    "<b>Conclusion: </b>We are having a good data."
   ]
  },
  {
   "cell_type": "markdown",
   "metadata": {},
   "source": [
    "<b>Visualize the categorical features</b>"
   ]
  },
  {
   "cell_type": "code",
   "execution_count": 19,
   "metadata": {},
   "outputs": [
    {
     "data": {
      "text/plain": [
       "<matplotlib.axes._subplots.AxesSubplot at 0x17479ce3470>"
      ]
     },
     "execution_count": 19,
     "metadata": {},
     "output_type": "execute_result"
    },
    {
     "data": {
      "image/png": "[encoded data removed]",
      "text/plain": [
       "<matplotlib.figure.Figure at 0x17479c90c18>"
      ]
     },
     "metadata": {},
     "output_type": "display_data"
    }
   ],
   "source": [
    "\"\"\"Visualize the Cylinder feature\"\"\"\n",
    "sns.countplot(dataset['Cylinders'])"
   ]
  },
  {
   "cell_type": "markdown",
   "metadata": {},
   "source": [
    "<b>Note: </b>By seeing the above barplot, we can see that we are having enough dataset of Type 4 cylinder. But the type 3 and type 5 cylinders are in very much less ratio. Hence, we will make sure at the time of splitting into the training and testing dataset, both the dataset should have same ratio of cylinder types."
   ]
  },
  {
   "cell_type": "code",
   "execution_count": 20,
   "metadata": {},
   "outputs": [
    {
     "name": "stdout",
     "output_type": "stream",
     "text": [
      "Percentage of type 3 cylinders are 1.0050251256281406\n",
      "Percentagee of type 4 cylinders are 51.256281407035175\n",
      "Percentage of type 5 cylinders are 0.7537688442211055\n",
      "Percentage of type 6 cylinders are 21.105527638190953\n",
      "Percentage of type 8 cylinders are 25.879396984924625\n"
     ]
    }
   ],
   "source": [
    "\"\"\"In Percentage, type of cylinders avaliable\"\"\"\n",
    "\n",
    "print(\"Percentage of type 3 cylinders are {}\".format(\n",
    "    (len(dataset[dataset['Cylinders'] == 3]) / len(dataset)) * 100)\n",
    "     )\n",
    "print(\"Percentagee of type 4 cylinders are {}\".format(\n",
    "    (len(dataset[dataset['Cylinders'] == 4]) / len(dataset)) * 100)\n",
    "     )\n",
    "print(\"Percentage of type 5 cylinders are {}\".format(\n",
    "    (len(dataset[dataset['Cylinders'] == 5]) / len(dataset)) * 100)\n",
    "     )\n",
    "print(\"Percentage of type 6 cylinders are {}\".format(\n",
    "    (len(dataset[dataset['Cylinders'] == 6]) / len(dataset)) * 100)\n",
    "     )\n",
    "print(\"Percentage of type 8 cylinders are {}\".format(\n",
    "     (len(dataset[dataset['Cylinders'] == 8]) / len(dataset)) * 100)\n",
    "     )"
   ]
  },
  {
   "cell_type": "code",
   "execution_count": 21,
   "metadata": {},
   "outputs": [
    {
     "data": {
      "text/plain": [
       "4    204\n",
       "8    103\n",
       "6     84\n",
       "3      4\n",
       "5      3\n",
       "Name: Cylinders, dtype: int64"
      ]
     },
     "execution_count": 21,
     "metadata": {},
     "output_type": "execute_result"
    }
   ],
   "source": [
    "\"\"\"We can also count the number of different type of cylinders available.\"\"\"\n",
    "dataset['Cylinders'].value_counts()"
   ]
  },
  {
   "cell_type": "code",
   "execution_count": 22,
   "metadata": {
    "scrolled": true
   },
   "outputs": [
    {
     "data": {
      "text/plain": [
       "<matplotlib.axes._subplots.AxesSubplot at 0x17479d5d0b8>"
      ]
     },
     "execution_count": 22,
     "metadata": {},
     "output_type": "execute_result"
    },
    {
     "data": {
      "image/png": "[encoded data removed]",
      "text/plain": [
       "<matplotlib.figure.Figure at 0x17479ca0e48>"
      ]
     },
     "metadata": {},
     "output_type": "display_data"
    }
   ],
   "source": [
    "\"\"\"Visualize the Model Year feature\"\"\"\n",
    "sns.countplot(dataset['Model Year'])"
   ]
  },
  {
   "cell_type": "code",
   "execution_count": 23,
   "metadata": {},
   "outputs": [
    {
     "data": {
      "text/plain": [
       "70    29\n",
       "71    28\n",
       "72    28\n",
       "73    40\n",
       "74    27\n",
       "75    30\n",
       "76    34\n",
       "77    28\n",
       "78    36\n",
       "79    29\n",
       "80    29\n",
       "81    29\n",
       "82    31\n",
       "Name: Model Year, dtype: int64"
      ]
     },
     "execution_count": 23,
     "metadata": {},
     "output_type": "execute_result"
    }
   ],
   "source": [
    "\"\"\"We can also count the total number of different type of model year categories available\"\"\"\n",
    "dataset['Model Year'].value_counts().sort_index()"
   ]
  },
  {
   "cell_type": "markdown",
   "metadata": {},
   "source": [
    "Maximum number of models are of <b>year 73</b>. "
   ]
  },
  {
   "cell_type": "code",
   "execution_count": 24,
   "metadata": {},
   "outputs": [
    {
     "data": {
      "text/plain": [
       "<matplotlib.axes._subplots.AxesSubplot at 0x17479e64d68>"
      ]
     },
     "execution_count": 24,
     "metadata": {},
     "output_type": "execute_result"
    },
    {
     "data": {
      "image/png": "[encoded data removed]",
      "text/plain": [
       "<matplotlib.figure.Figure at 0x17479ca07f0>"
      ]
     },
     "metadata": {},
     "output_type": "display_data"
    }
   ],
   "source": [
    "\"\"\"Visualize the Origin feature\"\"\"\n",
    "\n",
    "sns.countplot(dataset['Origin'])"
   ]
  },
  {
   "cell_type": "code",
   "execution_count": 25,
   "metadata": {},
   "outputs": [
    {
     "data": {
      "text/plain": [
       "1    249\n",
       "3     79\n",
       "2     70\n",
       "Name: Origin, dtype: int64"
      ]
     },
     "execution_count": 25,
     "metadata": {},
     "output_type": "execute_result"
    }
   ],
   "source": [
    "\"\"\"We can also count the total number of diffenent 'Origin' categories avaliable.\"\"\"\n",
    "dataset['Origin'].value_counts()"
   ]
  },
  {
   "cell_type": "markdown",
   "metadata": {},
   "source": [
    "<b>One-Hot Encoding</b>"
   ]
  },
  {
   "cell_type": "markdown",
   "metadata": {},
   "source": [
    "After visualizing all the categorical features i.e. Cylinders, Model Year, and Origin. We decided to do the <b>one-hot encoding</b> of the <b>Origin feature</b> only."
   ]
  },
  {
   "cell_type": "markdown",
   "metadata": {},
   "source": [
    "<i>If the question \"Why we only do one-hot encoding of the Origin feature?\" is coming in your mind then let me explain you.</i>"
   ]
  },
  {
   "cell_type": "markdown",
   "metadata": {},
   "source": [
    "Most of the algorithms work with the <i>numeric</i> data. It's hard for an algorithm to differentiate between the <i>categorical and numeric</i> data untill or unless we specify. That is the reason why we applied the concept of <i>encoding</i> in case of categorical data.\n",
    "\n",
    "The encoding can be done in mainly two ways :\n",
    "* Integer Encoding\n",
    "* One-Hot Encoding"
   ]
  },
  {
   "cell_type": "markdown",
   "metadata": {},
   "source": [
    "The example of integer encoding is the <i>Origin data</i> in our dataset, where <b><i>\"USA\" is 1, \"Europe\" is 2, and \"Japan\" is 3</b>."
   ]
  },
  {
   "cell_type": "markdown",
   "metadata": {},
   "source": [
    "Now, coming back to our point. We will only do the one-hot encoding of the Origin feature, because it is a type of <i>nominal categorical variable</i>. Yes, the categorical variables are of two types the <i>nominal and ordinal</i>. Nominal variables are those where no natural ordered relationship exist. Like in case of Origin data. We can't say <i>USA > Europe > Japan</i>, or <i>USA = Europe</i>. Obviously, it makes no sense. But in case of ordinal variable, there exist a natural ordered relationship. Like in case of \"Cylinders\" features, where <i> 4 > 8 > 6</i> actually makes sense."
   ]
  },
  {
   "cell_type": "markdown",
   "metadata": {},
   "source": [
    "<i>Hence, in short we do one-hot encoding of the nominal categorical variables.</i> and in our case \"Origin\" is a nominal type of variable."
   ]
  },
  {
   "cell_type": "markdown",
   "metadata": {},
   "source": [
    "<b>That's why we decided to do the <i>one-hot encoding</i> of the 'Origin' feature.</b>"
   ]
  },
  {
   "cell_type": "code",
   "execution_count": 26,
   "metadata": {},
   "outputs": [
    {
     "name": "stdout",
     "output_type": "stream",
     "text": [
      "Index(['MPG', 'Cylinders', 'Displacement', 'Horsepower', 'Weight',\n",
      "       'Acceleration', 'Model Year'],\n",
      "      dtype='object')\n"
     ]
    }
   ],
   "source": [
    "\"\"\"Removes the 'Origin' column from the dataset\"\"\"\n",
    "origin = dataset.pop('Origin')\n",
    "print(dataset.columns)"
   ]
  },
  {
   "cell_type": "code",
   "execution_count": 27,
   "metadata": {},
   "outputs": [
    {
     "data": {
      "text/html": [
       "<div>\n",
       "<style scoped>\n",
       "    .dataframe tbody tr th:only-of-type {\n",
       "        vertical-align: middle;\n",
       "    }\n",
       "\n",
       "    .dataframe tbody tr th {\n",
       "        vertical-align: top;\n",
       "    }\n",
       "\n",
       "    .dataframe thead th {\n",
       "        text-align: right;\n",
       "    }\n",
       "</style>\n",
       "<table border=\"1\" class=\"dataframe\">\n",
       "  <thead>\n",
       "    <tr style=\"text-align: right;\">\n",
       "      <th></th>\n",
       "      <th>MPG</th>\n",
       "      <th>Cylinders</th>\n",
       "      <th>Displacement</th>\n",
       "      <th>Horsepower</th>\n",
       "      <th>Weight</th>\n",
       "      <th>Acceleration</th>\n",
       "      <th>Model Year</th>\n",
       "      <th>USA</th>\n",
       "      <th>Europe</th>\n",
       "      <th>Japan</th>\n",
       "    </tr>\n",
       "  </thead>\n",
       "  <tbody>\n",
       "    <tr>\n",
       "      <th>0</th>\n",
       "      <td>18.0</td>\n",
       "      <td>8</td>\n",
       "      <td>307.0</td>\n",
       "      <td>130.0</td>\n",
       "      <td>3504.0</td>\n",
       "      <td>12.0</td>\n",
       "      <td>70</td>\n",
       "      <td>1.0</td>\n",
       "      <td>0.0</td>\n",
       "      <td>0.0</td>\n",
       "    </tr>\n",
       "    <tr>\n",
       "      <th>1</th>\n",
       "      <td>15.0</td>\n",
       "      <td>8</td>\n",
       "      <td>350.0</td>\n",
       "      <td>165.0</td>\n",
       "      <td>3693.0</td>\n",
       "      <td>11.5</td>\n",
       "      <td>70</td>\n",
       "      <td>1.0</td>\n",
       "      <td>0.0</td>\n",
       "      <td>0.0</td>\n",
       "    </tr>\n",
       "    <tr>\n",
       "      <th>2</th>\n",
       "      <td>18.0</td>\n",
       "      <td>8</td>\n",
       "      <td>318.0</td>\n",
       "      <td>150.0</td>\n",
       "      <td>3436.0</td>\n",
       "      <td>11.0</td>\n",
       "      <td>70</td>\n",
       "      <td>1.0</td>\n",
       "      <td>0.0</td>\n",
       "      <td>0.0</td>\n",
       "    </tr>\n",
       "    <tr>\n",
       "      <th>3</th>\n",
       "      <td>16.0</td>\n",
       "      <td>8</td>\n",
       "      <td>304.0</td>\n",
       "      <td>150.0</td>\n",
       "      <td>3433.0</td>\n",
       "      <td>12.0</td>\n",
       "      <td>70</td>\n",
       "      <td>1.0</td>\n",
       "      <td>0.0</td>\n",
       "      <td>0.0</td>\n",
       "    </tr>\n",
       "    <tr>\n",
       "      <th>4</th>\n",
       "      <td>17.0</td>\n",
       "      <td>8</td>\n",
       "      <td>302.0</td>\n",
       "      <td>140.0</td>\n",
       "      <td>3449.0</td>\n",
       "      <td>10.5</td>\n",
       "      <td>70</td>\n",
       "      <td>1.0</td>\n",
       "      <td>0.0</td>\n",
       "      <td>0.0</td>\n",
       "    </tr>\n",
       "  </tbody>\n",
       "</table>\n",
       "</div>"
      ],
      "text/plain": [
       "    MPG  Cylinders  Displacement  Horsepower  Weight  Acceleration  \\\n",
       "0  18.0          8         307.0       130.0  3504.0          12.0   \n",
       "1  15.0          8         350.0       165.0  3693.0          11.5   \n",
       "2  18.0          8         318.0       150.0  3436.0          11.0   \n",
       "3  16.0          8         304.0       150.0  3433.0          12.0   \n",
       "4  17.0          8         302.0       140.0  3449.0          10.5   \n",
       "\n",
       "   Model Year  USA  Europe  Japan  \n",
       "0          70  1.0     0.0    0.0  \n",
       "1          70  1.0     0.0    0.0  \n",
       "2          70  1.0     0.0    0.0  \n",
       "3          70  1.0     0.0    0.0  \n",
       "4          70  1.0     0.0    0.0  "
      ]
     },
     "execution_count": 27,
     "metadata": {},
     "output_type": "execute_result"
    }
   ],
   "source": [
    "\"\"\"Do the one-hot encoding\"\"\"\n",
    "dataset['USA'] = (origin == 1) * 1.0\n",
    "dataset['Europe'] = (origin == 2) * 1.0\n",
    "dataset['Japan'] = (origin == 3) * 1.0\n",
    "dataset.head()"
   ]
  },
  {
   "cell_type": "markdown",
   "metadata": {},
   "source": [
    "Now, we successfully did the one-hot encoding of the 'Origin'."
   ]
  },
  {
   "cell_type": "markdown",
   "metadata": {},
   "source": [
    "#### 4. Split the dataset"
   ]
  },
  {
   "cell_type": "markdown",
   "metadata": {},
   "source": [
    "Now it's time to split our dataset into training and testing dataset."
   ]
  },
  {
   "cell_type": "code",
   "execution_count": 28,
   "metadata": {
    "collapsed": true
   },
   "outputs": [],
   "source": [
    "\"\"\"Split the dataset into features and labels\"\"\"\n",
    "labels = dataset.pop('MPG')\n",
    "features = dataset"
   ]
  },
  {
   "cell_type": "code",
   "execution_count": 29,
   "metadata": {
    "collapsed": true
   },
   "outputs": [],
   "source": [
    "\"\"\"Split the dataset\"\"\"\n",
    "features_train, features_test, labels_train, labels_test = train_test_split(features, labels, random_state = 3)"
   ]
  },
  {
   "cell_type": "code",
   "execution_count": 30,
   "metadata": {},
   "outputs": [
    {
     "data": {
      "text/html": [
       "<div>\n",
       "<style scoped>\n",
       "    .dataframe tbody tr th:only-of-type {\n",
       "        vertical-align: middle;\n",
       "    }\n",
       "\n",
       "    .dataframe tbody tr th {\n",
       "        vertical-align: top;\n",
       "    }\n",
       "\n",
       "    .dataframe thead th {\n",
       "        text-align: right;\n",
       "    }\n",
       "</style>\n",
       "<table border=\"1\" class=\"dataframe\">\n",
       "  <thead>\n",
       "    <tr style=\"text-align: right;\">\n",
       "      <th></th>\n",
       "      <th>Cylinders</th>\n",
       "      <th>Displacement</th>\n",
       "      <th>Horsepower</th>\n",
       "      <th>Weight</th>\n",
       "      <th>Acceleration</th>\n",
       "      <th>Model Year</th>\n",
       "      <th>USA</th>\n",
       "      <th>Europe</th>\n",
       "      <th>Japan</th>\n",
       "    </tr>\n",
       "  </thead>\n",
       "  <tbody>\n",
       "    <tr>\n",
       "      <th>14</th>\n",
       "      <td>4</td>\n",
       "      <td>113.0</td>\n",
       "      <td>95.0</td>\n",
       "      <td>2372.0</td>\n",
       "      <td>15.0</td>\n",
       "      <td>70</td>\n",
       "      <td>0.0</td>\n",
       "      <td>0.0</td>\n",
       "      <td>1.0</td>\n",
       "    </tr>\n",
       "    <tr>\n",
       "      <th>47</th>\n",
       "      <td>6</td>\n",
       "      <td>250.0</td>\n",
       "      <td>100.0</td>\n",
       "      <td>3282.0</td>\n",
       "      <td>15.0</td>\n",
       "      <td>71</td>\n",
       "      <td>1.0</td>\n",
       "      <td>0.0</td>\n",
       "      <td>0.0</td>\n",
       "    </tr>\n",
       "    <tr>\n",
       "      <th>46</th>\n",
       "      <td>4</td>\n",
       "      <td>140.0</td>\n",
       "      <td>72.0</td>\n",
       "      <td>2408.0</td>\n",
       "      <td>19.0</td>\n",
       "      <td>71</td>\n",
       "      <td>1.0</td>\n",
       "      <td>0.0</td>\n",
       "      <td>0.0</td>\n",
       "    </tr>\n",
       "    <tr>\n",
       "      <th>247</th>\n",
       "      <td>4</td>\n",
       "      <td>85.0</td>\n",
       "      <td>70.0</td>\n",
       "      <td>2070.0</td>\n",
       "      <td>18.6</td>\n",
       "      <td>78</td>\n",
       "      <td>0.0</td>\n",
       "      <td>0.0</td>\n",
       "      <td>1.0</td>\n",
       "    </tr>\n",
       "    <tr>\n",
       "      <th>355</th>\n",
       "      <td>4</td>\n",
       "      <td>107.0</td>\n",
       "      <td>75.0</td>\n",
       "      <td>2210.0</td>\n",
       "      <td>14.4</td>\n",
       "      <td>81</td>\n",
       "      <td>0.0</td>\n",
       "      <td>0.0</td>\n",
       "      <td>1.0</td>\n",
       "    </tr>\n",
       "  </tbody>\n",
       "</table>\n",
       "</div>"
      ],
      "text/plain": [
       "     Cylinders  Displacement  Horsepower  Weight  Acceleration  Model Year  \\\n",
       "14           4         113.0        95.0  2372.0          15.0          70   \n",
       "47           6         250.0       100.0  3282.0          15.0          71   \n",
       "46           4         140.0        72.0  2408.0          19.0          71   \n",
       "247          4          85.0        70.0  2070.0          18.6          78   \n",
       "355          4         107.0        75.0  2210.0          14.4          81   \n",
       "\n",
       "     USA  Europe  Japan  \n",
       "14   0.0     0.0    1.0  \n",
       "47   1.0     0.0    0.0  \n",
       "46   1.0     0.0    0.0  \n",
       "247  0.0     0.0    1.0  \n",
       "355  0.0     0.0    1.0  "
      ]
     },
     "execution_count": 30,
     "metadata": {},
     "output_type": "execute_result"
    }
   ],
   "source": [
    "\"\"\"Have a look at the training dataset\"\"\"\n",
    "features_train.head()"
   ]
  },
  {
   "cell_type": "markdown",
   "metadata": {},
   "source": [
    "Now, we have successfully split the dataset into testing and training dataset. Now it's time to build the model."
   ]
  },
  {
   "cell_type": "markdown",
   "metadata": {},
   "source": [
    "#### 5. Normalize the dataset"
   ]
  },
  {
   "cell_type": "markdown",
   "metadata": {},
   "source": [
    "It is good practice to normalize features that use different scales and ranges."
   ]
  },
  {
   "cell_type": "code",
   "execution_count": 31,
   "metadata": {},
   "outputs": [
    {
     "data": {
      "text/html": [
       "<div>\n",
       "<style scoped>\n",
       "    .dataframe tbody tr th:only-of-type {\n",
       "        vertical-align: middle;\n",
       "    }\n",
       "\n",
       "    .dataframe tbody tr th {\n",
       "        vertical-align: top;\n",
       "    }\n",
       "\n",
       "    .dataframe thead th {\n",
       "        text-align: right;\n",
       "    }\n",
       "</style>\n",
       "<table border=\"1\" class=\"dataframe\">\n",
       "  <thead>\n",
       "    <tr style=\"text-align: right;\">\n",
       "      <th></th>\n",
       "      <th>count</th>\n",
       "      <th>mean</th>\n",
       "      <th>std</th>\n",
       "      <th>min</th>\n",
       "      <th>25%</th>\n",
       "      <th>50%</th>\n",
       "      <th>75%</th>\n",
       "      <th>max</th>\n",
       "    </tr>\n",
       "  </thead>\n",
       "  <tbody>\n",
       "    <tr>\n",
       "      <th>Cylinders</th>\n",
       "      <td>298.0</td>\n",
       "      <td>5.489933</td>\n",
       "      <td>1.713945</td>\n",
       "      <td>3.0</td>\n",
       "      <td>4.000</td>\n",
       "      <td>4.0</td>\n",
       "      <td>8.000</td>\n",
       "      <td>8.0</td>\n",
       "    </tr>\n",
       "    <tr>\n",
       "      <th>Displacement</th>\n",
       "      <td>298.0</td>\n",
       "      <td>196.300336</td>\n",
       "      <td>105.792016</td>\n",
       "      <td>68.0</td>\n",
       "      <td>105.000</td>\n",
       "      <td>151.0</td>\n",
       "      <td>293.250</td>\n",
       "      <td>455.0</td>\n",
       "    </tr>\n",
       "    <tr>\n",
       "      <th>Horsepower</th>\n",
       "      <td>298.0</td>\n",
       "      <td>105.672305</td>\n",
       "      <td>38.508721</td>\n",
       "      <td>46.0</td>\n",
       "      <td>77.250</td>\n",
       "      <td>95.0</td>\n",
       "      <td>128.000</td>\n",
       "      <td>225.0</td>\n",
       "    </tr>\n",
       "    <tr>\n",
       "      <th>Weight</th>\n",
       "      <td>298.0</td>\n",
       "      <td>3006.161074</td>\n",
       "      <td>856.555199</td>\n",
       "      <td>1613.0</td>\n",
       "      <td>2257.250</td>\n",
       "      <td>2885.0</td>\n",
       "      <td>3612.000</td>\n",
       "      <td>5140.0</td>\n",
       "    </tr>\n",
       "    <tr>\n",
       "      <th>Acceleration</th>\n",
       "      <td>298.0</td>\n",
       "      <td>15.530537</td>\n",
       "      <td>2.714317</td>\n",
       "      <td>8.0</td>\n",
       "      <td>13.725</td>\n",
       "      <td>15.5</td>\n",
       "      <td>17.175</td>\n",
       "      <td>24.8</td>\n",
       "    </tr>\n",
       "    <tr>\n",
       "      <th>Model Year</th>\n",
       "      <td>298.0</td>\n",
       "      <td>76.080537</td>\n",
       "      <td>3.659804</td>\n",
       "      <td>70.0</td>\n",
       "      <td>73.000</td>\n",
       "      <td>76.0</td>\n",
       "      <td>79.000</td>\n",
       "      <td>82.0</td>\n",
       "    </tr>\n",
       "    <tr>\n",
       "      <th>USA</th>\n",
       "      <td>298.0</td>\n",
       "      <td>0.620805</td>\n",
       "      <td>0.486003</td>\n",
       "      <td>0.0</td>\n",
       "      <td>0.000</td>\n",
       "      <td>1.0</td>\n",
       "      <td>1.000</td>\n",
       "      <td>1.0</td>\n",
       "    </tr>\n",
       "    <tr>\n",
       "      <th>Europe</th>\n",
       "      <td>298.0</td>\n",
       "      <td>0.184564</td>\n",
       "      <td>0.388596</td>\n",
       "      <td>0.0</td>\n",
       "      <td>0.000</td>\n",
       "      <td>0.0</td>\n",
       "      <td>0.000</td>\n",
       "      <td>1.0</td>\n",
       "    </tr>\n",
       "    <tr>\n",
       "      <th>Japan</th>\n",
       "      <td>298.0</td>\n",
       "      <td>0.194631</td>\n",
       "      <td>0.396582</td>\n",
       "      <td>0.0</td>\n",
       "      <td>0.000</td>\n",
       "      <td>0.0</td>\n",
       "      <td>0.000</td>\n",
       "      <td>1.0</td>\n",
       "    </tr>\n",
       "  </tbody>\n",
       "</table>\n",
       "</div>"
      ],
      "text/plain": [
       "              count         mean         std     min       25%     50%  \\\n",
       "Cylinders     298.0     5.489933    1.713945     3.0     4.000     4.0   \n",
       "Displacement  298.0   196.300336  105.792016    68.0   105.000   151.0   \n",
       "Horsepower    298.0   105.672305   38.508721    46.0    77.250    95.0   \n",
       "Weight        298.0  3006.161074  856.555199  1613.0  2257.250  2885.0   \n",
       "Acceleration  298.0    15.530537    2.714317     8.0    13.725    15.5   \n",
       "Model Year    298.0    76.080537    3.659804    70.0    73.000    76.0   \n",
       "USA           298.0     0.620805    0.486003     0.0     0.000     1.0   \n",
       "Europe        298.0     0.184564    0.388596     0.0     0.000     0.0   \n",
       "Japan         298.0     0.194631    0.396582     0.0     0.000     0.0   \n",
       "\n",
       "                   75%     max  \n",
       "Cylinders        8.000     8.0  \n",
       "Displacement   293.250   455.0  \n",
       "Horsepower     128.000   225.0  \n",
       "Weight        3612.000  5140.0  \n",
       "Acceleration    17.175    24.8  \n",
       "Model Year      79.000    82.0  \n",
       "USA              1.000     1.0  \n",
       "Europe           0.000     1.0  \n",
       "Japan            0.000     1.0  "
      ]
     },
     "execution_count": 31,
     "metadata": {},
     "output_type": "execute_result"
    }
   ],
   "source": [
    "features_train_des = features_train.describe().transpose()\n",
    "features_train_des"
   ]
  },
  {
   "cell_type": "code",
   "execution_count": 32,
   "metadata": {
    "collapsed": true
   },
   "outputs": [],
   "source": [
    "\"\"\"Define a function to normalize\"\"\"\n",
    "def norm_scale(a):\n",
    "    b = (a - a.mean())/(a.std())\n",
    "    return b"
   ]
  },
  {
   "cell_type": "code",
   "execution_count": 33,
   "metadata": {
    "collapsed": true
   },
   "outputs": [],
   "source": [
    "\"\"\"Normalize the train and test dataset\"\"\"\n",
    "\"\"\"Keep in mind that the training and testing dataset normalized by the same method.\"\"\"\n",
    "norm_features_train = norm_scale(features_train)\n",
    "norm_features_test = norm_scale(features_test)"
   ]
  },
  {
   "cell_type": "code",
   "execution_count": 34,
   "metadata": {},
   "outputs": [
    {
     "data": {
      "text/html": [
       "<div>\n",
       "<style scoped>\n",
       "    .dataframe tbody tr th:only-of-type {\n",
       "        vertical-align: middle;\n",
       "    }\n",
       "\n",
       "    .dataframe tbody tr th {\n",
       "        vertical-align: top;\n",
       "    }\n",
       "\n",
       "    .dataframe thead th {\n",
       "        text-align: right;\n",
       "    }\n",
       "</style>\n",
       "<table border=\"1\" class=\"dataframe\">\n",
       "  <thead>\n",
       "    <tr style=\"text-align: right;\">\n",
       "      <th></th>\n",
       "      <th>Cylinders</th>\n",
       "      <th>Displacement</th>\n",
       "      <th>Horsepower</th>\n",
       "      <th>Weight</th>\n",
       "      <th>Acceleration</th>\n",
       "      <th>Model Year</th>\n",
       "      <th>USA</th>\n",
       "      <th>Europe</th>\n",
       "      <th>Japan</th>\n",
       "    </tr>\n",
       "  </thead>\n",
       "  <tbody>\n",
       "    <tr>\n",
       "      <th>14</th>\n",
       "      <td>-0.869300</td>\n",
       "      <td>-0.787397</td>\n",
       "      <td>-0.277140</td>\n",
       "      <td>-0.740362</td>\n",
       "      <td>-0.195459</td>\n",
       "      <td>-1.661438</td>\n",
       "      <td>-1.277370</td>\n",
       "      <td>-0.47495</td>\n",
       "      <td>2.030775</td>\n",
       "    </tr>\n",
       "    <tr>\n",
       "      <th>47</th>\n",
       "      <td>0.297598</td>\n",
       "      <td>0.507597</td>\n",
       "      <td>-0.147299</td>\n",
       "      <td>0.322033</td>\n",
       "      <td>-0.195459</td>\n",
       "      <td>-1.388199</td>\n",
       "      <td>0.780231</td>\n",
       "      <td>-0.47495</td>\n",
       "      <td>-0.490771</td>\n",
       "    </tr>\n",
       "    <tr>\n",
       "      <th>46</th>\n",
       "      <td>-0.869300</td>\n",
       "      <td>-0.532179</td>\n",
       "      <td>-0.874407</td>\n",
       "      <td>-0.698333</td>\n",
       "      <td>1.278209</td>\n",
       "      <td>-1.388199</td>\n",
       "      <td>0.780231</td>\n",
       "      <td>-0.47495</td>\n",
       "      <td>-0.490771</td>\n",
       "    </tr>\n",
       "    <tr>\n",
       "      <th>247</th>\n",
       "      <td>-0.869300</td>\n",
       "      <td>-1.052067</td>\n",
       "      <td>-0.926344</td>\n",
       "      <td>-1.092937</td>\n",
       "      <td>1.130842</td>\n",
       "      <td>0.524472</td>\n",
       "      <td>-1.277370</td>\n",
       "      <td>-0.47495</td>\n",
       "      <td>2.030775</td>\n",
       "    </tr>\n",
       "    <tr>\n",
       "      <th>355</th>\n",
       "      <td>-0.869300</td>\n",
       "      <td>-0.844112</td>\n",
       "      <td>-0.796503</td>\n",
       "      <td>-0.929492</td>\n",
       "      <td>-0.416509</td>\n",
       "      <td>1.344188</td>\n",
       "      <td>-1.277370</td>\n",
       "      <td>-0.47495</td>\n",
       "      <td>2.030775</td>\n",
       "    </tr>\n",
       "  </tbody>\n",
       "</table>\n",
       "</div>"
      ],
      "text/plain": [
       "     Cylinders  Displacement  Horsepower    Weight  Acceleration  Model Year  \\\n",
       "14   -0.869300     -0.787397   -0.277140 -0.740362     -0.195459   -1.661438   \n",
       "47    0.297598      0.507597   -0.147299  0.322033     -0.195459   -1.388199   \n",
       "46   -0.869300     -0.532179   -0.874407 -0.698333      1.278209   -1.388199   \n",
       "247  -0.869300     -1.052067   -0.926344 -1.092937      1.130842    0.524472   \n",
       "355  -0.869300     -0.844112   -0.796503 -0.929492     -0.416509    1.344188   \n",
       "\n",
       "          USA   Europe     Japan  \n",
       "14  -1.277370 -0.47495  2.030775  \n",
       "47   0.780231 -0.47495 -0.490771  \n",
       "46   0.780231 -0.47495 -0.490771  \n",
       "247 -1.277370 -0.47495  2.030775  \n",
       "355 -1.277370 -0.47495  2.030775  "
      ]
     },
     "execution_count": 34,
     "metadata": {},
     "output_type": "execute_result"
    }
   ],
   "source": [
    "\"\"\"Have a look at the training dataset\"\"\"\n",
    "norm_features_train.head()"
   ]
  },
  {
   "cell_type": "code",
   "execution_count": 35,
   "metadata": {},
   "outputs": [
    {
     "data": {
      "text/html": [
       "<div>\n",
       "<style scoped>\n",
       "    .dataframe tbody tr th:only-of-type {\n",
       "        vertical-align: middle;\n",
       "    }\n",
       "\n",
       "    .dataframe tbody tr th {\n",
       "        vertical-align: top;\n",
       "    }\n",
       "\n",
       "    .dataframe thead th {\n",
       "        text-align: right;\n",
       "    }\n",
       "</style>\n",
       "<table border=\"1\" class=\"dataframe\">\n",
       "  <thead>\n",
       "    <tr style=\"text-align: right;\">\n",
       "      <th></th>\n",
       "      <th>Cylinders</th>\n",
       "      <th>Displacement</th>\n",
       "      <th>Horsepower</th>\n",
       "      <th>Weight</th>\n",
       "      <th>Acceleration</th>\n",
       "      <th>Model Year</th>\n",
       "      <th>USA</th>\n",
       "      <th>Europe</th>\n",
       "      <th>Japan</th>\n",
       "    </tr>\n",
       "  </thead>\n",
       "  <tbody>\n",
       "    <tr>\n",
       "      <th>358</th>\n",
       "      <td>-0.810368</td>\n",
       "      <td>-0.651086</td>\n",
       "      <td>-0.722313</td>\n",
       "      <td>-0.281911</td>\n",
       "      <td>0.905239</td>\n",
       "      <td>1.361562</td>\n",
       "      <td>-1.326650</td>\n",
       "      <td>-0.417978</td>\n",
       "      <td>1.929841</td>\n",
       "    </tr>\n",
       "    <tr>\n",
       "      <th>16</th>\n",
       "      <td>0.390177</td>\n",
       "      <td>0.141942</td>\n",
       "      <td>-0.104370</td>\n",
       "      <td>-0.110743</td>\n",
       "      <td>-0.062192</td>\n",
       "      <td>-1.518665</td>\n",
       "      <td>0.746241</td>\n",
       "      <td>-0.417978</td>\n",
       "      <td>-0.512996</td>\n",
       "    </tr>\n",
       "    <tr>\n",
       "      <th>292</th>\n",
       "      <td>1.590723</td>\n",
       "      <td>1.758113</td>\n",
       "      <td>1.319584</td>\n",
       "      <td>1.325105</td>\n",
       "      <td>-0.925969</td>\n",
       "      <td>0.837884</td>\n",
       "      <td>0.746241</td>\n",
       "      <td>-0.417978</td>\n",
       "      <td>-0.512996</td>\n",
       "    </tr>\n",
       "    <tr>\n",
       "      <th>81</th>\n",
       "      <td>-0.810368</td>\n",
       "      <td>-0.881968</td>\n",
       "      <td>-0.238706</td>\n",
       "      <td>-0.709218</td>\n",
       "      <td>0.456074</td>\n",
       "      <td>-0.994987</td>\n",
       "      <td>-1.326650</td>\n",
       "      <td>-0.417978</td>\n",
       "      <td>1.929841</td>\n",
       "    </tr>\n",
       "    <tr>\n",
       "      <th>112</th>\n",
       "      <td>-0.810368</td>\n",
       "      <td>-0.631009</td>\n",
       "      <td>-0.426775</td>\n",
       "      <td>-0.682126</td>\n",
       "      <td>0.974341</td>\n",
       "      <td>-0.733149</td>\n",
       "      <td>0.746241</td>\n",
       "      <td>-0.417978</td>\n",
       "      <td>-0.512996</td>\n",
       "    </tr>\n",
       "  </tbody>\n",
       "</table>\n",
       "</div>"
      ],
      "text/plain": [
       "     Cylinders  Displacement  Horsepower    Weight  Acceleration  Model Year  \\\n",
       "358  -0.810368     -0.651086   -0.722313 -0.281911      0.905239    1.361562   \n",
       "16    0.390177      0.141942   -0.104370 -0.110743     -0.062192   -1.518665   \n",
       "292   1.590723      1.758113    1.319584  1.325105     -0.925969    0.837884   \n",
       "81   -0.810368     -0.881968   -0.238706 -0.709218      0.456074   -0.994987   \n",
       "112  -0.810368     -0.631009   -0.426775 -0.682126      0.974341   -0.733149   \n",
       "\n",
       "          USA    Europe     Japan  \n",
       "358 -1.326650 -0.417978  1.929841  \n",
       "16   0.746241 -0.417978 -0.512996  \n",
       "292  0.746241 -0.417978 -0.512996  \n",
       "81  -1.326650 -0.417978  1.929841  \n",
       "112  0.746241 -0.417978 -0.512996  "
      ]
     },
     "execution_count": 35,
     "metadata": {},
     "output_type": "execute_result"
    }
   ],
   "source": [
    "\"\"\"Have a look at the testing dataset\"\"\"\n",
    "\"\"\"Look only just to conform that testing dataset is also scaled\"\"\"\n",
    "norm_features_test.head()"
   ]
  },
  {
   "cell_type": "markdown",
   "metadata": {},
   "source": [
    "#### 6. Build the model"
   ]
  },
  {
   "cell_type": "markdown",
   "metadata": {},
   "source": [
    "In Keras, we assemble layers to build a model. A model is nothing but a graph of layers. The most common type of model is a stack of layers called <i>Sequential Models</i>. To build a simple fully connected network we use <i>tf.keras.sequential</i> model."
   ]
  },
  {
   "cell_type": "markdown",
   "metadata": {},
   "source": [
    "Building the neural network requires configuring the layers of the model, then compiling the model. A model is nothing but a graoh of layers. First, we stack a few layers together using <i>keras.Sequential</i> (it is the most common type of model used). Next we configure the loss function, optimizer, and metrics to monitor. These are added during the model's compile step:\n",
    "- <i>Loss function</i>: measures how accurate the model is during training, we want to minimize this with the optimizer.\n",
    "- <i>Optimizer</i>: how the model is updated based on the data it sees and its loss function.\n",
    "-  <i>Metrics</i>: used to monitor the training and testing steps."
   ]
  },
  {
   "cell_type": "markdown",
   "metadata": {},
   "source": [
    "Let's build a network with 2 hidden layers of 64 neurons each, and use mean square error (MSE) as the loss function (most common one for regression problems)."
   ]
  },
  {
   "cell_type": "code",
   "execution_count": 36,
   "metadata": {
    "collapsed": true
   },
   "outputs": [],
   "source": [
    "# \"\"\"Create a build model function\"\"\"\n",
    "\n",
    "def build_model():\n",
    "    \n",
    "    \n",
    "#     \"\"\"Intintiate the Sequential Model\"\"\"\n",
    "    \n",
    "    model =  keras.Sequential()\n",
    "    \n",
    "#     \"\"\"Let's create two densely/fully-connected hidden layer\"\"\"\n",
    "    \n",
    "#     \"\"\"1. First fully connected layer\"\"\"\n",
    "    \n",
    "#     \"\"\"Add a fully-connected layer with 64 units to the model\n",
    "#     Also add non-linearity by using activation function\n",
    "#     Specifying the input array shape of norm_features_train\"\"\"\n",
    "    \n",
    "    model.add(layers.Dense(units = 64, activation = tf.nn.relu,\n",
    "                           input_shape = [norm_features_train.shape[1]]))\n",
    "#     \"\"\"\n",
    "#     Now our model will take an input array of shape (batch_size, input_shape)\n",
    "#     The batch_size is the size we choose \n",
    "#     the output array is of shape (batch_size, units)\n",
    "#     \"\"\"\n",
    "    \n",
    "#     \"\"\"\n",
    "#     The output of dense layer is: output  = activation(dot(input, kernel) + bias)\n",
    "#     Where <kernel> is the weight matrix created by the layer.\n",
    "#     And bias is the bias vector also created by the layer.\n",
    "#     \"\"\"\n",
    "    \n",
    "#     \"\"\"2. Second fully connected layer\"\"\"\n",
    "\n",
    "#     \"\"\"Now after the first layer we don't need to specify the size of the input anymore. \n",
    "#        Add another layer in the similar way\"\"\"\n",
    "\n",
    "    model.add(layers.Dense(units = 64, activation = tf.nn.relu))\n",
    "    \n",
    "    \n",
    "#     \"\"\"Output layer\"\"\"\n",
    "    \n",
    "    model.add(layers.Dense(units = 1))\n",
    "#     \"\"\"Single unit represents single node that returns single continuous value\"\"\"\n",
    "\n",
    "    \n",
    "#     \"\"\"After successfully adding the layers it's time to compile our model\"\"\"\n",
    "    \n",
    "#     \"\"\"There are too many omtimizers out there like:\n",
    "#        tf.train.MomentumOptimizer, tf.train.AdagradOptimizer, tf.train.AdadeltaOptimizer\n",
    "#        tf.train.AdamOptimizer, or tf.train.RMSPropOptimizer\"\"\"\n",
    "    \n",
    "    optimizer = tf.train.AdamOptimizer(learning_rate = 0.001)\n",
    "#     \"\"\"The role of the optimizer is to optimize the learning rate.\n",
    "#        So that we reaches towards the result much faster.\n",
    "#        It help in increasing rate of training.\n",
    "#        Suppose we are having a learning rate which adapt or change itself according to the gradient.\n",
    "#        This type of learning rate is known as 'Adaptive Learning Rate'.\"\"\"\n",
    "    \n",
    "    loss = tf.keras.losses.mse\n",
    "#     \"\"\"Loss function is the one that needed to be minimize during optimization\n",
    "#        It measures the total loss over an entire dataset.\n",
    "#        Loss function is also known as cost function or object function or empirical risk.\n",
    "#        Some of the loss functions are: \n",
    "#        'mean square error' --> used with regression problems, \n",
    "#        'categorical_crossentropy' --> used with multi-class classification problems, or\n",
    "#        'binary_crossentropy' --> used with binary-class classification problems\n",
    "        \n",
    "#        mean square error(mse) = average(sum(predict - actual)^2)\"\"\"\n",
    "    \n",
    "    metrics = [tf.keras.metrics.mae, tf.keras.losses.mse]\n",
    "#     \"\"\"Metrics used to monitor training.\n",
    "#        Some of the common metrices are:\n",
    "#        mean absolute error, mean squared error, mean absolute percentage error, \n",
    "#        mean squared logarithmic error\"\"\"\n",
    "              \n",
    "    \n",
    "    model.compile(loss = loss, optimizer = optimizer, metrics = metrics)\n",
    "    \n",
    "    return model"
   ]
  },
  {
   "cell_type": "code",
   "execution_count": 37,
   "metadata": {
    "collapsed": true
   },
   "outputs": [],
   "source": [
    "\"\"\"Call our function to look at the weights\"\"\"\n",
    "model = build_model()"
   ]
  },
  {
   "cell_type": "code",
   "execution_count": 38,
   "metadata": {},
   "outputs": [
    {
     "name": "stdout",
     "output_type": "stream",
     "text": [
      "Weights are: \n",
      "[<tf.Variable 'dense/kernel:0' shape=(9, 64) dtype=float32>, <tf.Variable 'dense/bias:0' shape=(64,) dtype=float32>, <tf.Variable 'dense_1/kernel:0' shape=(64, 64) dtype=float32>, <tf.Variable 'dense_1/bias:0' shape=(64,) dtype=float32>, <tf.Variable 'dense_2/kernel:0' shape=(64, 1) dtype=float32>, <tf.Variable 'dense_2/bias:0' shape=(1,) dtype=float32>]\n"
     ]
    }
   ],
   "source": [
    "\"\"\"Look at the assigned weights by the layer\"\"\"\n",
    "print(\"Weights are: \\n{}\".format(model.weights))"
   ]
  },
  {
   "cell_type": "code",
   "execution_count": 39,
   "metadata": {
    "collapsed": true
   },
   "outputs": [],
   "source": [
    "\"\"\"Use 'get_weights' method to see all the weights\"\"\"\n",
    "weights = model.get_weights()"
   ]
  },
  {
   "cell_type": "code",
   "execution_count": 40,
   "metadata": {},
   "outputs": [
    {
     "name": "stdout",
     "output_type": "stream",
     "text": [
      "_________________________________________________________________\n",
      "Layer (type)                 Output Shape              Param #   \n",
      "=================================================================\n",
      "dense (Dense)                (None, 64)                640       \n",
      "_________________________________________________________________\n",
      "dense_1 (Dense)              (None, 64)                4160      \n",
      "_________________________________________________________________\n",
      "dense_2 (Dense)              (None, 1)                 65        \n",
      "=================================================================\n",
      "Total params: 4,865\n",
      "Trainable params: 4,865\n",
      "Non-trainable params: 0\n",
      "_________________________________________________________________\n"
     ]
    }
   ],
   "source": [
    "\"\"\"Look at the summary of the model we created\"\"\"\n",
    "model.summary()"
   ]
  },
  {
   "cell_type": "markdown",
   "metadata": {},
   "source": [
    "#### 7. Train the model"
   ]
  },
  {
   "cell_type": "markdown",
   "metadata": {},
   "source": [
    "The model is trained for 1000 epochs"
   ]
  },
  {
   "cell_type": "code",
   "execution_count": 41,
   "metadata": {},
   "outputs": [
    {
     "name": "stdout",
     "output_type": "stream",
     "text": [
      "\n",
      "....................................................................................................\n",
      "....................................................................................................\n",
      "....................................................................................................\n",
      "....................................................................................................\n",
      "....................................................................................................\n",
      "....................................................................................................\n",
      "....................................................................................................\n",
      "....................................................................................................\n",
      "....................................................................................................\n",
      "...................................................................................................."
     ]
    }
   ],
   "source": [
    "EPOCHS = 1000\n",
    "\n",
    "# Display training progress by printing a single dot for each completed epoch\n",
    "class PrintDot(keras.callbacks.Callback):\n",
    "  def on_epoch_end(self, epoch, logs):\n",
    "    if epoch % 100 == 0: print('')\n",
    "    print('.', end='')\n",
    "    \n",
    "\"\"\"\n",
    "'batch_size': Number of samples per gradient update. If unspecified, batch_size will default to 32.\n",
    "(which is in our case)\n",
    "'epochs': An epoch is an iteration over the entire x and y data provided.\n",
    "'verbose': Verbosity mode. 0 = silent, 1 = progress bar, 2 = one line per epoch.\n",
    "'validation_split': Fraction of the training data to be used as validation data. \n",
    "The model will set apart this fraction of the training data, will not train on it,\n",
    "and will evaluate the loss and any model metrics on this data at the end of each epoch.\n",
    "'validation_data': We can also provide our own validation data to test on.\n",
    "\"\"\"\n",
    "history = model.fit(x = norm_features_train, y = labels_train, epochs=EPOCHS, \n",
    "                    validation_split = 0.2, verbose = 0, callbacks=[PrintDot()])"
   ]
  },
  {
   "cell_type": "markdown",
   "metadata": {},
   "source": [
    "<b>Congratulations, </b>you have successfully trained your model."
   ]
  },
  {
   "cell_type": "markdown",
   "metadata": {},
   "source": [
    "Let's visualize the model's training progress."
   ]
  },
  {
   "cell_type": "code",
   "execution_count": 42,
   "metadata": {},
   "outputs": [
    {
     "data": {
      "text/html": [
       "<div>\n",
       "<style scoped>\n",
       "    .dataframe tbody tr th:only-of-type {\n",
       "        vertical-align: middle;\n",
       "    }\n",
       "\n",
       "    .dataframe tbody tr th {\n",
       "        vertical-align: top;\n",
       "    }\n",
       "\n",
       "    .dataframe thead th {\n",
       "        text-align: right;\n",
       "    }\n",
       "</style>\n",
       "<table border=\"1\" class=\"dataframe\">\n",
       "  <thead>\n",
       "    <tr style=\"text-align: right;\">\n",
       "      <th></th>\n",
       "      <th>val_loss</th>\n",
       "      <th>val_mean_absolute_error</th>\n",
       "      <th>val_mean_squared_error</th>\n",
       "      <th>loss</th>\n",
       "      <th>mean_absolute_error</th>\n",
       "      <th>mean_squared_error</th>\n",
       "      <th>epoch</th>\n",
       "    </tr>\n",
       "  </thead>\n",
       "  <tbody>\n",
       "    <tr>\n",
       "      <th>0</th>\n",
       "      <td>564.152893</td>\n",
       "      <td>22.685986</td>\n",
       "      <td>564.152893</td>\n",
       "      <td>606.594866</td>\n",
       "      <td>23.390559</td>\n",
       "      <td>606.594866</td>\n",
       "      <td>0</td>\n",
       "    </tr>\n",
       "    <tr>\n",
       "      <th>1</th>\n",
       "      <td>537.873177</td>\n",
       "      <td>22.110849</td>\n",
       "      <td>537.873177</td>\n",
       "      <td>579.218121</td>\n",
       "      <td>22.783774</td>\n",
       "      <td>579.218121</td>\n",
       "      <td>1</td>\n",
       "    </tr>\n",
       "    <tr>\n",
       "      <th>2</th>\n",
       "      <td>507.527067</td>\n",
       "      <td>21.437089</td>\n",
       "      <td>507.527067</td>\n",
       "      <td>549.972745</td>\n",
       "      <td>22.136305</td>\n",
       "      <td>549.972745</td>\n",
       "      <td>2</td>\n",
       "    </tr>\n",
       "    <tr>\n",
       "      <th>3</th>\n",
       "      <td>469.696930</td>\n",
       "      <td>20.580713</td>\n",
       "      <td>469.696930</td>\n",
       "      <td>514.945804</td>\n",
       "      <td>21.347960</td>\n",
       "      <td>514.945804</td>\n",
       "      <td>3</td>\n",
       "    </tr>\n",
       "    <tr>\n",
       "      <th>4</th>\n",
       "      <td>422.904651</td>\n",
       "      <td>19.478484</td>\n",
       "      <td>422.904651</td>\n",
       "      <td>470.597244</td>\n",
       "      <td>20.342000</td>\n",
       "      <td>470.597244</td>\n",
       "      <td>4</td>\n",
       "    </tr>\n",
       "  </tbody>\n",
       "</table>\n",
       "</div>"
      ],
      "text/plain": [
       "     val_loss  val_mean_absolute_error  val_mean_squared_error        loss  \\\n",
       "0  564.152893                22.685986              564.152893  606.594866   \n",
       "1  537.873177                22.110849              537.873177  579.218121   \n",
       "2  507.527067                21.437089              507.527067  549.972745   \n",
       "3  469.696930                20.580713              469.696930  514.945804   \n",
       "4  422.904651                19.478484              422.904651  470.597244   \n",
       "\n",
       "   mean_absolute_error  mean_squared_error  epoch  \n",
       "0            23.390559          606.594866      0  \n",
       "1            22.783774          579.218121      1  \n",
       "2            22.136305          549.972745      2  \n",
       "3            21.347960          514.945804      3  \n",
       "4            20.342000          470.597244      4  "
      ]
     },
     "execution_count": 42,
     "metadata": {},
     "output_type": "execute_result"
    }
   ],
   "source": [
    "hist = pd.DataFrame(history.history)\n",
    "hist['epoch'] = history.epoch\n",
    "\"\"\"Look values at the start of training\"\"\"\n",
    "hist.head()"
   ]
  },
  {
   "cell_type": "code",
   "execution_count": 43,
   "metadata": {},
   "outputs": [
    {
     "data": {
      "text/html": [
       "<div>\n",
       "<style scoped>\n",
       "    .dataframe tbody tr th:only-of-type {\n",
       "        vertical-align: middle;\n",
       "    }\n",
       "\n",
       "    .dataframe tbody tr th {\n",
       "        vertical-align: top;\n",
       "    }\n",
       "\n",
       "    .dataframe thead th {\n",
       "        text-align: right;\n",
       "    }\n",
       "</style>\n",
       "<table border=\"1\" class=\"dataframe\">\n",
       "  <thead>\n",
       "    <tr style=\"text-align: right;\">\n",
       "      <th></th>\n",
       "      <th>val_loss</th>\n",
       "      <th>val_mean_absolute_error</th>\n",
       "      <th>val_mean_squared_error</th>\n",
       "      <th>loss</th>\n",
       "      <th>mean_absolute_error</th>\n",
       "      <th>mean_squared_error</th>\n",
       "      <th>epoch</th>\n",
       "    </tr>\n",
       "  </thead>\n",
       "  <tbody>\n",
       "    <tr>\n",
       "      <th>995</th>\n",
       "      <td>13.824004</td>\n",
       "      <td>2.715761</td>\n",
       "      <td>13.824004</td>\n",
       "      <td>1.591115</td>\n",
       "      <td>0.842114</td>\n",
       "      <td>1.591115</td>\n",
       "      <td>995</td>\n",
       "    </tr>\n",
       "    <tr>\n",
       "      <th>996</th>\n",
       "      <td>14.217002</td>\n",
       "      <td>2.764704</td>\n",
       "      <td>14.217002</td>\n",
       "      <td>1.600627</td>\n",
       "      <td>0.810114</td>\n",
       "      <td>1.600627</td>\n",
       "      <td>996</td>\n",
       "    </tr>\n",
       "    <tr>\n",
       "      <th>997</th>\n",
       "      <td>13.869884</td>\n",
       "      <td>2.722414</td>\n",
       "      <td>13.869884</td>\n",
       "      <td>1.542320</td>\n",
       "      <td>0.819017</td>\n",
       "      <td>1.542320</td>\n",
       "      <td>997</td>\n",
       "    </tr>\n",
       "    <tr>\n",
       "      <th>998</th>\n",
       "      <td>13.955443</td>\n",
       "      <td>2.723558</td>\n",
       "      <td>13.955443</td>\n",
       "      <td>1.546527</td>\n",
       "      <td>0.806337</td>\n",
       "      <td>1.546527</td>\n",
       "      <td>998</td>\n",
       "    </tr>\n",
       "    <tr>\n",
       "      <th>999</th>\n",
       "      <td>14.120915</td>\n",
       "      <td>2.756618</td>\n",
       "      <td>14.120915</td>\n",
       "      <td>1.536815</td>\n",
       "      <td>0.806598</td>\n",
       "      <td>1.536815</td>\n",
       "      <td>999</td>\n",
       "    </tr>\n",
       "  </tbody>\n",
       "</table>\n",
       "</div>"
      ],
      "text/plain": [
       "      val_loss  val_mean_absolute_error  val_mean_squared_error      loss  \\\n",
       "995  13.824004                 2.715761               13.824004  1.591115   \n",
       "996  14.217002                 2.764704               14.217002  1.600627   \n",
       "997  13.869884                 2.722414               13.869884  1.542320   \n",
       "998  13.955443                 2.723558               13.955443  1.546527   \n",
       "999  14.120915                 2.756618               14.120915  1.536815   \n",
       "\n",
       "     mean_absolute_error  mean_squared_error  epoch  \n",
       "995             0.842114            1.591115    995  \n",
       "996             0.810114            1.600627    996  \n",
       "997             0.819017            1.542320    997  \n",
       "998             0.806337            1.546527    998  \n",
       "999             0.806598            1.536815    999  "
      ]
     },
     "execution_count": 43,
     "metadata": {},
     "output_type": "execute_result"
    }
   ],
   "source": [
    "\"\"\"Look values at the end of training\"\"\"\n",
    "hist.tail()"
   ]
  },
  {
   "cell_type": "markdown",
   "metadata": {},
   "source": [
    "<b>Conclusion: </b>Mean square error should be as low as possible (for good model)."
   ]
  },
  {
   "cell_type": "markdown",
   "metadata": {},
   "source": [
    "As we sees, at the start of the training our <i>val_mean_squared_error</i> is near to 564(which is very high). And at the end of the training our <i>val_mean_squared_error</i> come closer to 14(which is a great success). But, it might be possible that some where in the middle it also goes much less. This this we can easily see. So why, it increases at the end. The reason behind it is <b>Overfitting</b>. Yes, the model started overfitting the data."
   ]
  },
  {
   "cell_type": "markdown",
   "metadata": {},
   "source": [
    "So the question is, <i>how can we avoid overfitting?</b>, and make our model more accurate. There are mainly two ways of preventing the model from overfitting.\n",
    "- First, one is using <i>Dropouts</i> (i.e. randomly settingsome activations to zero).\n",
    "- Second, one is <i>Early Stopping</i> (i.e. stop training before we have a chance to overfit)."
   ]
  },
  {
   "cell_type": "markdown",
   "metadata": {},
   "source": [
    "So, we will use second method in our model. You can try the first method the see the changes you have in your accuray."
   ]
  },
  {
   "cell_type": "code",
   "execution_count": 44,
   "metadata": {},
   "outputs": [
    {
     "name": "stdout",
     "output_type": "stream",
     "text": [
      "\n",
      "....................................................................................................\n",
      "........................................................................."
     ]
    }
   ],
   "source": [
    "\"\"\"Improve the model\"\"\"\n",
    "model_improved = build_model()\n",
    "\n",
    "\"\"\"\n",
    "The patience parameter is the amount of epochs to check for improvement.\n",
    "If a set amount of epochs elapses without showing improvement, then automatically stop the training.\n",
    "\"\"\"\n",
    "early_stop = keras.callbacks.EarlyStopping(monitor='val_loss', patience=100)\n",
    "\n",
    "history_improved = model_improved.fit(x = norm_features_train, y = labels_train, epochs=EPOCHS,\n",
    "                    validation_split = 0.2, batch_size = 32, verbose=0, \n",
    "                                      callbacks=[early_stop, PrintDot()])"
   ]
  },
  {
   "cell_type": "markdown",
   "metadata": {},
   "source": [
    "Now, you see that the model did not completed all the 1000 epochs. Instead it stopped at the point from where onwards the model started overfitting. "
   ]
  },
  {
   "cell_type": "markdown",
   "metadata": {},
   "source": [
    "Let's visualize the improved model's training progress."
   ]
  },
  {
   "cell_type": "code",
   "execution_count": 45,
   "metadata": {},
   "outputs": [
    {
     "data": {
      "text/html": [
       "<div>\n",
       "<style scoped>\n",
       "    .dataframe tbody tr th:only-of-type {\n",
       "        vertical-align: middle;\n",
       "    }\n",
       "\n",
       "    .dataframe tbody tr th {\n",
       "        vertical-align: top;\n",
       "    }\n",
       "\n",
       "    .dataframe thead th {\n",
       "        text-align: right;\n",
       "    }\n",
       "</style>\n",
       "<table border=\"1\" class=\"dataframe\">\n",
       "  <thead>\n",
       "    <tr style=\"text-align: right;\">\n",
       "      <th></th>\n",
       "      <th>val_loss</th>\n",
       "      <th>val_mean_absolute_error</th>\n",
       "      <th>val_mean_squared_error</th>\n",
       "      <th>loss</th>\n",
       "      <th>mean_absolute_error</th>\n",
       "      <th>mean_squared_error</th>\n",
       "      <th>epoch</th>\n",
       "    </tr>\n",
       "  </thead>\n",
       "  <tbody>\n",
       "    <tr>\n",
       "      <th>0</th>\n",
       "      <td>538.671537</td>\n",
       "      <td>22.123231</td>\n",
       "      <td>538.671537</td>\n",
       "      <td>577.805579</td>\n",
       "      <td>22.782664</td>\n",
       "      <td>577.805579</td>\n",
       "      <td>0</td>\n",
       "    </tr>\n",
       "    <tr>\n",
       "      <th>1</th>\n",
       "      <td>510.003617</td>\n",
       "      <td>21.477386</td>\n",
       "      <td>510.003617</td>\n",
       "      <td>548.393513</td>\n",
       "      <td>22.118132</td>\n",
       "      <td>548.393513</td>\n",
       "      <td>1</td>\n",
       "    </tr>\n",
       "    <tr>\n",
       "      <th>2</th>\n",
       "      <td>473.851969</td>\n",
       "      <td>20.642958</td>\n",
       "      <td>473.851969</td>\n",
       "      <td>513.848075</td>\n",
       "      <td>21.329274</td>\n",
       "      <td>513.848075</td>\n",
       "      <td>2</td>\n",
       "    </tr>\n",
       "    <tr>\n",
       "      <th>3</th>\n",
       "      <td>427.835126</td>\n",
       "      <td>19.535592</td>\n",
       "      <td>427.835126</td>\n",
       "      <td>469.646104</td>\n",
       "      <td>20.294360</td>\n",
       "      <td>469.646104</td>\n",
       "      <td>3</td>\n",
       "    </tr>\n",
       "    <tr>\n",
       "      <th>4</th>\n",
       "      <td>370.862144</td>\n",
       "      <td>18.081597</td>\n",
       "      <td>370.862144</td>\n",
       "      <td>415.039153</td>\n",
       "      <td>18.923956</td>\n",
       "      <td>415.039153</td>\n",
       "      <td>4</td>\n",
       "    </tr>\n",
       "  </tbody>\n",
       "</table>\n",
       "</div>"
      ],
      "text/plain": [
       "     val_loss  val_mean_absolute_error  val_mean_squared_error        loss  \\\n",
       "0  538.671537                22.123231              538.671537  577.805579   \n",
       "1  510.003617                21.477386              510.003617  548.393513   \n",
       "2  473.851969                20.642958              473.851969  513.848075   \n",
       "3  427.835126                19.535592              427.835126  469.646104   \n",
       "4  370.862144                18.081597              370.862144  415.039153   \n",
       "\n",
       "   mean_absolute_error  mean_squared_error  epoch  \n",
       "0            22.782664          577.805579      0  \n",
       "1            22.118132          548.393513      1  \n",
       "2            21.329274          513.848075      2  \n",
       "3            20.294360          469.646104      3  \n",
       "4            18.923956          415.039153      4  "
      ]
     },
     "execution_count": 45,
     "metadata": {},
     "output_type": "execute_result"
    }
   ],
   "source": [
    "hist_improved = pd.DataFrame(history_improved.history)\n",
    "hist_improved['epoch'] = history_improved.epoch\n",
    "\"\"\"Look values at the start of training\"\"\"\n",
    "hist_improved.head()"
   ]
  },
  {
   "cell_type": "code",
   "execution_count": 46,
   "metadata": {},
   "outputs": [
    {
     "data": {
      "text/html": [
       "<div>\n",
       "<style scoped>\n",
       "    .dataframe tbody tr th:only-of-type {\n",
       "        vertical-align: middle;\n",
       "    }\n",
       "\n",
       "    .dataframe tbody tr th {\n",
       "        vertical-align: top;\n",
       "    }\n",
       "\n",
       "    .dataframe thead th {\n",
       "        text-align: right;\n",
       "    }\n",
       "</style>\n",
       "<table border=\"1\" class=\"dataframe\">\n",
       "  <thead>\n",
       "    <tr style=\"text-align: right;\">\n",
       "      <th></th>\n",
       "      <th>val_loss</th>\n",
       "      <th>val_mean_absolute_error</th>\n",
       "      <th>val_mean_squared_error</th>\n",
       "      <th>loss</th>\n",
       "      <th>mean_absolute_error</th>\n",
       "      <th>mean_squared_error</th>\n",
       "      <th>epoch</th>\n",
       "    </tr>\n",
       "  </thead>\n",
       "  <tbody>\n",
       "    <tr>\n",
       "      <th>168</th>\n",
       "      <td>8.618880</td>\n",
       "      <td>2.120590</td>\n",
       "      <td>8.618880</td>\n",
       "      <td>4.677666</td>\n",
       "      <td>1.596842</td>\n",
       "      <td>4.677666</td>\n",
       "      <td>168</td>\n",
       "    </tr>\n",
       "    <tr>\n",
       "      <th>169</th>\n",
       "      <td>8.548281</td>\n",
       "      <td>2.108537</td>\n",
       "      <td>8.548281</td>\n",
       "      <td>4.543931</td>\n",
       "      <td>1.562256</td>\n",
       "      <td>4.543931</td>\n",
       "      <td>169</td>\n",
       "    </tr>\n",
       "    <tr>\n",
       "      <th>170</th>\n",
       "      <td>8.607027</td>\n",
       "      <td>2.093953</td>\n",
       "      <td>8.607027</td>\n",
       "      <td>4.595002</td>\n",
       "      <td>1.570275</td>\n",
       "      <td>4.595002</td>\n",
       "      <td>170</td>\n",
       "    </tr>\n",
       "    <tr>\n",
       "      <th>171</th>\n",
       "      <td>8.824853</td>\n",
       "      <td>2.179481</td>\n",
       "      <td>8.824853</td>\n",
       "      <td>4.545251</td>\n",
       "      <td>1.565877</td>\n",
       "      <td>4.545251</td>\n",
       "      <td>171</td>\n",
       "    </tr>\n",
       "    <tr>\n",
       "      <th>172</th>\n",
       "      <td>8.943292</td>\n",
       "      <td>2.212052</td>\n",
       "      <td>8.943292</td>\n",
       "      <td>4.593147</td>\n",
       "      <td>1.570206</td>\n",
       "      <td>4.593147</td>\n",
       "      <td>172</td>\n",
       "    </tr>\n",
       "  </tbody>\n",
       "</table>\n",
       "</div>"
      ],
      "text/plain": [
       "     val_loss  val_mean_absolute_error  val_mean_squared_error      loss  \\\n",
       "168  8.618880                 2.120590                8.618880  4.677666   \n",
       "169  8.548281                 2.108537                8.548281  4.543931   \n",
       "170  8.607027                 2.093953                8.607027  4.595002   \n",
       "171  8.824853                 2.179481                8.824853  4.545251   \n",
       "172  8.943292                 2.212052                8.943292  4.593147   \n",
       "\n",
       "     mean_absolute_error  mean_squared_error  epoch  \n",
       "168             1.596842            4.677666    168  \n",
       "169             1.562256            4.543931    169  \n",
       "170             1.570275            4.595002    170  \n",
       "171             1.565877            4.545251    171  \n",
       "172             1.570206            4.593147    172  "
      ]
     },
     "execution_count": 46,
     "metadata": {},
     "output_type": "execute_result"
    }
   ],
   "source": [
    "hist_improved.tail()"
   ]
  },
  {
   "cell_type": "markdown",
   "metadata": {},
   "source": [
    "Now you can see how much drop in the <i>val_mean_square_error</i> happens. Right from the starting closer to 538.6 till the end closer to 9. And only in 172 epoches. Yes, no need to go far to 1000 epoches and waste your computation and time. "
   ]
  },
  {
   "cell_type": "markdown",
   "metadata": {},
   "source": [
    "Always, keep in mind that we are not interested in Training dataset accuracy. We are interesred in testing data accuray. And you will see the difference very soon."
   ]
  },
  {
   "cell_type": "markdown",
   "metadata": {},
   "source": [
    "#### 7. Test the model"
   ]
  },
  {
   "cell_type": "markdown",
   "metadata": {},
   "source": [
    "Let's see how did our improved model performs on the testing dataset."
   ]
  },
  {
   "cell_type": "code",
   "execution_count": 47,
   "metadata": {},
   "outputs": [
    {
     "name": "stdout",
     "output_type": "stream",
     "text": [
      "Testing set Mean Sqrd Error: 10.89 MPG\n",
      "Testing set Mean Abs Error:  2.45 MPG\n",
      "Testing Val Loss Error: 10.89 MPG\n"
     ]
    }
   ],
   "source": [
    "\"\"\"Check accuracy on the testing dataset\"\"\"\n",
    "loss, mae, mse = model.evaluate(norm_features_test, labels_test, verbose=0)\n",
    "\n",
    "print(\"Testing set Mean Sqrd Error: {:5.2f} MPG\".format(mse))\n",
    "print(\"Testing set Mean Abs Error: {:5.2f} MPG\".format(mae))\n",
    "print(\"Testing Val Loss Error: {:5.2f} MPG\".format(loss))"
   ]
  },
  {
   "cell_type": "markdown",
   "metadata": {},
   "source": [
    "This is the testing accuray on your simple model."
   ]
  },
  {
   "cell_type": "code",
   "execution_count": 48,
   "metadata": {},
   "outputs": [
    {
     "name": "stdout",
     "output_type": "stream",
     "text": [
      "Testing set Mean Sqrd Error:  9.48 MPG\n",
      "Testing set Mean Abs Error:  2.31 MPG\n",
      "Testing Val Loss Error:  9.48 MPG\n"
     ]
    }
   ],
   "source": [
    "\"\"\"Check accuracy on the testing dataset\"\"\"\n",
    "loss, mae, mse = model_improved.evaluate(norm_features_test, labels_test, verbose=0)\n",
    "\n",
    "print(\"Testing set Mean Sqrd Error: {:5.2f} MPG\".format(mse))\n",
    "print(\"Testing set Mean Abs Error: {:5.2f} MPG\".format(mae))\n",
    "print(\"Testing Val Loss Error: {:5.2f} MPG\".format(loss))"
   ]
  },
  {
   "cell_type": "markdown",
   "metadata": {},
   "source": [
    "And, this is the testing accuracy on your improved model and it is slightly better than our simple model. Thst's why we will choose it."
   ]
  },
  {
   "cell_type": "code",
   "execution_count": 49,
   "metadata": {},
   "outputs": [
    {
     "data": {
      "image/png": "[encoded data removed]",
      "text/plain": [
       "<matplotlib.figure.Figure at 0x1747b6d7cf8>"
      ]
     },
     "metadata": {},
     "output_type": "display_data"
    }
   ],
   "source": [
    "test_predictions = model_improved.predict(norm_features_test).flatten()\n",
    "\n",
    "plt.scatter(labels_test, test_predictions)\n",
    "plt.xlabel('True Values [MPG]')\n",
    "plt.ylabel('Predictions [MPG]')\n",
    "plt.axis('equal')\n",
    "plt.axis('square')\n",
    "plt.xlim([0,plt.xlim()[1]])\n",
    "plt.ylim([0,plt.ylim()[1]])\n",
    "_ = plt.plot([-100, 100], [-100, 100])"
   ]
  },
  {
   "cell_type": "code",
   "execution_count": 50,
   "metadata": {},
   "outputs": [
    {
     "data": {
      "image/png": "[encoded data removed]",
      "text/plain": [
       "<matplotlib.figure.Figure at 0x1747a0fc358>"
      ]
     },
     "metadata": {},
     "output_type": "display_data"
    }
   ],
   "source": [
    "error = test_predictions - labels_test\n",
    "plt.hist(error, bins = 25)\n",
    "plt.xlabel(\"Prediction Error [MPG]\")\n",
    "_ = plt.ylabel(\"Count\")"
   ]
  },
  {
   "cell_type": "code",
   "execution_count": null,
   "metadata": {
    "collapsed": true
   },
   "outputs": [],
   "source": []
  }
 ],
 "metadata": {
  "kernelspec": {
   "display_name": "Python 3",
   "language": "python",
   "name": "python3"
  },
  "language_info": {
   "codemirror_mode": {
    "name": "ipython",
    "version": 3
   },
   "file_extension": ".py",
   "mimetype": "text/x-python",
   "name": "python",
   "nbconvert_exporter": "python",
   "pygments_lexer": "ipython3",
   "version": "3.6.3"
  }
 },
 "nbformat": 4,
 "nbformat_minor": 2
}
