{
 "cells": [
  {
   "cell_type": "markdown",
   "metadata": {
    "collapsed": true
   },
   "source": [
    "## Traffic Light Images Classification"
   ]
  },
  {
   "cell_type": "markdown",
   "metadata": {},
   "source": [
    "#### 1. Import Libraries"
   ]
  },
  {
   "cell_type": "code",
   "execution_count": 1,
   "metadata": {},
   "outputs": [
    {
     "name": "stderr",
     "output_type": "stream",
     "text": [
      "C:\\Users\\Praneet\\Anaconda3\\lib\\site-packages\\h5py\\__init__.py:36: FutureWarning: Conversion of the second argument of issubdtype from `float` to `np.floating` is deprecated. In future, it will be treated as `np.float64 == np.dtype(float).type`.\n",
      "  from ._conv import register_converters as _register_converters\n"
     ]
    },
    {
     "name": "stdout",
     "output_type": "stream",
     "text": [
      "Tensorflow version  1.12.0\n",
      "TensorFlow Keras version  2.1.6-tf\n",
      "OpenCV version  4.0.0\n"
     ]
    }
   ],
   "source": [
    "# TensorFlow and tf.keras\n",
    "import tensorflow as tf\n",
    "from tensorflow import keras\n",
    "from tensorflow.keras import layers\n",
    "\n",
    "from sklearn.model_selection import train_test_split\n",
    "\n",
    "#Images, plots, display, and visualization\n",
    "import matplotlib.pyplot as plt\n",
    "from matplotlib import style\n",
    "import seaborn as sns\n",
    "import pandas as pd\n",
    "import numpy as np\n",
    "from IPython.display import display\n",
    "import cv2\n",
    "from PIL import Image\n",
    "import pickle\n",
    "\n",
    "import os\n",
    "import math, random\n",
    "\n",
    "import warnings\n",
    "\n",
    "print(\"Tensorflow version \", tf.__version__)\n",
    "print(\"TensorFlow Keras version \", keras.__version__)\n",
    "print(\"OpenCV version \", cv2.__version__)"
   ]
  },
  {
   "cell_type": "code",
   "execution_count": 2,
   "metadata": {
    "collapsed": true
   },
   "outputs": [],
   "source": [
    "warnings.filterwarnings('ignore')\n",
    "%matplotlib inline\n",
    "style.use('ggplot')"
   ]
  },
  {
   "cell_type": "markdown",
   "metadata": {},
   "source": [
    "#### 2. Load the data"
   ]
  },
  {
   "cell_type": "markdown",
   "metadata": {},
   "source": [
    "We are having the data inside the ```traffic_light_images``` folder. The images of green traffic light is inside the ```green``` folder, similarly the images of red traffic light is inside the ```red``` folder, and the images of yellow traffic light is inside the ```yellow``` folder."
   ]
  },
  {
   "cell_type": "code",
   "execution_count": 3,
   "metadata": {},
   "outputs": [
    {
     "name": "stdout",
     "output_type": "stream",
     "text": [
      "['green', 'red', 'yellow']\n"
     ]
    }
   ],
   "source": [
    "# image dataset path\n",
    "DATADIR = os.getcwd() + '\\\\traffic_light_images'\n",
    "\n",
    "# List of categories\n",
    "CATEGORIES = []\n",
    "with os.scandir(DATADIR) as entries:\n",
    "    for entry in entries:\n",
    "        CATEGORIES.append(entry.name)\n",
    "print(CATEGORIES)"
   ]
  },
  {
   "cell_type": "code",
   "execution_count": 4,
   "metadata": {},
   "outputs": [],
   "source": [
    "data = []\n",
    "input_img_x = 32 # width of the images\n",
    "input_img_y = 32 # height of the images\n",
    "\n",
    "def load_data():\n",
    "    for category in CATEGORIES:\n",
    "        path = os.path.join(DATADIR, category) # create path to green, red, and yellow light images\n",
    "        class_num = CATEGORIES.index(category) # get the classification (0->green, 1->red, 2->yellow)\n",
    "        \n",
    "        for img in os.listdir(path): # iterte over each image of different categories\n",
    "            try:\n",
    "                img_array = cv2.imread(os.path.join(path, img)) # convert image to an array\n",
    "                new_array = cv2.resize(img_array, (input_img_x, input_img_y)) # resize images to normalize data size\n",
    "                data.append([new_array, class_num]) # add to out data\n",
    "            except Exception as e:\n",
    "                print(\"general exception\", e, os.path.join(path,img))\n",
    "                \n",
    "            \n",
    "load_data()"
   ]
  },
  {
   "cell_type": "code",
   "execution_count": 5,
   "metadata": {},
   "outputs": [
    {
     "name": "stdout",
     "output_type": "stream",
     "text": [
      "Total number of images we are having, including all the three categories:  1484\n"
     ]
    }
   ],
   "source": [
    "# total number of images we have\n",
    "print(\"Total number of images we are having, including all the three categories: \", len(data))"
   ]
  },
  {
   "cell_type": "markdown",
   "metadata": {},
   "source": [
    "Great, we have almost 1500 samples! That's awesome. It's time to shuffle out dataset."
   ]
  },
  {
   "cell_type": "code",
   "execution_count": 6,
   "metadata": {
    "collapsed": true
   },
   "outputs": [],
   "source": [
    "# shuffle the data\n",
    "random.shuffle(data)"
   ]
  },
  {
   "cell_type": "code",
   "execution_count": 7,
   "metadata": {},
   "outputs": [
    {
     "name": "stdout",
     "output_type": "stream",
     "text": [
      "1\n",
      "1\n",
      "0\n",
      "0\n",
      "1\n",
      "1\n",
      "0\n",
      "1\n",
      "1\n",
      "0\n"
     ]
    }
   ],
   "source": [
    "# look at top samples of the data\n",
    "for sample in data[:10]:\n",
    "    print(sample[1]) # show the labels"
   ]
  },
  {
   "cell_type": "code",
   "execution_count": 8,
   "metadata": {},
   "outputs": [],
   "source": [
    "# Get the percentage of each category in our dataset\n",
    "total_len = len(data)\n",
    "data_images = []\n",
    "data_labels = []\n",
    "\n",
    "for features, labels in data:\n",
    "    data_images.append(features)\n",
    "    data_labels.append(labels)\n",
    "\n",
    "\n",
    "    \n",
    "# convert list to dataframe\n",
    "df_labels = pd.DataFrame({'labels': data_labels})\n"
   ]
  },
  {
   "cell_type": "code",
   "execution_count": 9,
   "metadata": {},
   "outputs": [
    {
     "name": "stdout",
     "output_type": "stream",
     "text": [
      "Percentage of Green light images are: 36.118598382749326\n",
      "Percentage of Red light images are: 60.91644204851752\n",
      "Percentage of Yellow light images are: 2.964959568733154\n"
     ]
    }
   ],
   "source": [
    "green_labels = df_labels['labels'].value_counts()[0]\n",
    "red_labels = df_labels['labels'].value_counts()[1]\n",
    "yellow_labels = df_labels['labels'].value_counts()[2]\n",
    "print(\"Percentage of Green light images are: {}\".format((green_labels / total_len) * 100))\n",
    "print(\"Percentage of Red light images are: {}\".format((red_labels / total_len) * 100))\n",
    "print(\"Percentage of Yellow light images are: {}\".format((yellow_labels / total_len) * 100))"
   ]
  },
  {
   "cell_type": "markdown",
   "metadata": {},
   "source": [
    "61 percent of the data in out dataset belong to Red light labels (1). We need to split our data into training and testing data in a manner such that we are having equal portion of all the labels in both training and testing dataset."
   ]
  },
  {
   "cell_type": "code",
   "execution_count": 10,
   "metadata": {},
   "outputs": [
    {
     "data": {
      "text/plain": [
       "(32, 32, 3)"
      ]
     },
     "execution_count": 10,
     "metadata": {},
     "output_type": "execute_result"
    }
   ],
   "source": [
    "# shape of our images\n",
    "data_images[0].shape"
   ]
  },
  {
   "cell_type": "markdown",
   "metadata": {},
   "source": [
    "The output tuple shows that we are having the image of 32 pixels of width, 32 pixels height, and in RGB format(colored)."
   ]
  },
  {
   "cell_type": "markdown",
   "metadata": {},
   "source": [
    "<b>Visualize the images in our data</b>"
   ]
  },
  {
   "cell_type": "code",
   "execution_count": 11,
   "metadata": {},
   "outputs": [
    {
     "data": {
      "image/png": "[encoded data removed]",
      "text/plain": [
       "<matplotlib.figure.Figure at 0x28edcfb51d0>"
      ]
     },
     "metadata": {},
     "output_type": "display_data"
    }
   ],
   "source": [
    "def display_images(num_of_images):\n",
    "    plt.figure(figsize = (10, 2))\n",
    "    for i in range(num_of_images):\n",
    "        plt.subplot(1, num_of_images, i+1)\n",
    "        plt.xticks([])\n",
    "        plt.yticks([])\n",
    "        plt.imshow(data_images[i])\n",
    "        plt.xlabel(data_labels[i])\n",
    "        \n",
    "display_images(num_of_images = 5)"
   ]
  },
  {
   "cell_type": "code",
   "execution_count": 12,
   "metadata": {
    "collapsed": true
   },
   "outputs": [],
   "source": [
    "# reshape our images and store then in a numpy array\n",
    "data_images = np.array(data_images).reshape(-1, input_img_x, input_img_y, 3)"
   ]
  },
  {
   "cell_type": "code",
   "execution_count": 13,
   "metadata": {},
   "outputs": [
    {
     "data": {
      "text/plain": [
       "(1484, 32, 32, 3)"
      ]
     },
     "execution_count": 13,
     "metadata": {},
     "output_type": "execute_result"
    }
   ],
   "source": [
    "# Check the shape of reshaped images\n",
    "data_images.shape"
   ]
  },
  {
   "cell_type": "markdown",
   "metadata": {},
   "source": [
    "Let's save this data of reshaped images, so that we don't need to keep on performing the same task again and again."
   ]
  },
  {
   "cell_type": "code",
   "execution_count": 14,
   "metadata": {},
   "outputs": [],
   "source": [
    "try:\n",
    "    with open('data_images.pickle', 'wb') as f:\n",
    "        pickle.dump(data_images, f)\n",
    "    \n",
    "    with open('data_labels.pickle', 'wb') as f:\n",
    "        pickle.dump(data_labels, f)\n",
    "except Exception as e:\n",
    "    pass"
   ]
  },
  {
   "cell_type": "markdown",
   "metadata": {},
   "source": [
    "We can always load it in to our current script, or a totally new one by doing:"
   ]
  },
  {
   "cell_type": "code",
   "execution_count": 15,
   "metadata": {
    "collapsed": true
   },
   "outputs": [],
   "source": [
    "with open('data_images.pickle', 'rb') as f:\n",
    "    X = pickle.load(f)\n",
    "\n",
    "with open('data_labels.pickle', 'rb') as f:\n",
    "    y = pickle.load(f)"
   ]
  },
  {
   "cell_type": "code",
   "execution_count": 16,
   "metadata": {},
   "outputs": [
    {
     "data": {
      "text/plain": [
       "(1484, 32, 32, 3)"
      ]
     },
     "execution_count": 16,
     "metadata": {},
     "output_type": "execute_result"
    }
   ],
   "source": [
    "X.shape"
   ]
  },
  {
   "cell_type": "code",
   "execution_count": 17,
   "metadata": {},
   "outputs": [
    {
     "data": {
      "text/plain": [
       "1484"
      ]
     },
     "execution_count": 17,
     "metadata": {},
     "output_type": "execute_result"
    }
   ],
   "source": [
    "len(y)"
   ]
  },
  {
   "cell_type": "markdown",
   "metadata": {},
   "source": [
    "#### 3. Split the data"
   ]
  },
  {
   "cell_type": "code",
   "execution_count": null,
   "metadata": {
    "collapsed": true
   },
   "outputs": [],
   "source": [
    "\n"
   ]
  },
  {
   "cell_type": "code",
   "execution_count": null,
   "metadata": {
    "collapsed": true
   },
   "outputs": [],
   "source": []
  },
  {
   "cell_type": "code",
   "execution_count": null,
   "metadata": {
    "collapsed": true
   },
   "outputs": [],
   "source": []
  },
  {
   "cell_type": "code",
   "execution_count": null,
   "metadata": {
    "collapsed": true
   },
   "outputs": [],
   "source": []
  }
 ],
 "metadata": {
  "kernelspec": {
   "display_name": "Python 3",
   "language": "python",
   "name": "python3"
  },
  "language_info": {
   "codemirror_mode": {
    "name": "ipython",
    "version": 3
   },
   "file_extension": ".py",
   "mimetype": "text/x-python",
   "name": "python",
   "nbconvert_exporter": "python",
   "pygments_lexer": "ipython3",
   "version": "3.6.3"
  }
 },
 "nbformat": 4,
 "nbformat_minor": 2
}
